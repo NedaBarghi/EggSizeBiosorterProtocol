{
 "cells": [
  {
   "cell_type": "markdown",
   "id": "9d518d6c",
   "metadata": {},
   "source": [
    "# 1. Import  libraries"
   ]
  },
  {
   "cell_type": "code",
   "execution_count": 1,
   "id": "9f7b57e5",
   "metadata": {},
   "outputs": [],
   "source": [
    "%matplotlib inline\n",
    "\n",
    "import pandas as pd \n",
    "import math\n",
    "import matplotlib.pyplot as plt \n",
    "import os\n",
    "import numpy as np\n",
    "from sklearn.linear_model import LinearRegression\n",
    "from scipy.optimize import curve_fit\n",
    "from sklearn.model_selection import GridSearchCV\n",
    "from sklearn.model_selection import KFold\n",
    "from sklearn.neighbors import KernelDensity\n",
    "from scipy.signal import argrelextrema\n",
    "from scipy.stats.stats import spearmanr"
   ]
  },
  {
   "cell_type": "markdown",
   "id": "e9cecabb",
   "metadata": {},
   "source": [
    "# 2. Change the working directory"
   ]
  },
  {
   "cell_type": "code",
   "execution_count": 2,
   "id": "800c0b1c",
   "metadata": {},
   "outputs": [
    {
     "data": {
      "text/plain": [
       "'/Users/neda/Dropbox (PopGen)/tmp/egg_size_method_paper/scripts'"
      ]
     },
     "execution_count": 2,
     "metadata": {},
     "output_type": "execute_result"
    }
   ],
   "source": [
    "os.chdir('/Users/neda/Dropbox (PopGen)/tmp/egg_size_method_paper/scripts/')\n",
    "os.getcwd()"
   ]
  },
  {
   "cell_type": "markdown",
   "id": "facc500c",
   "metadata": {},
   "source": [
    "# 3. Functions"
   ]
  },
  {
   "cell_type": "code",
   "execution_count": 3,
   "id": "9c3a6dbc",
   "metadata": {},
   "outputs": [],
   "source": [
    "#This function computes the intercept&slope from the reference beads, converts TOF to size and appends size to the original data\n",
    "def compute_append_size(eg_data):\n",
    "    bead_200 = pd.read_excel('../data/Drosophila_eggs_OD1_5_1xPBS_26-03-2021/Ref_bead_26-03-2021.xlsx', sheet_name='200 um Beads')\n",
    "    bead_430 = pd.read_excel('../data/Drosophila_eggs_OD1_5_1xPBS_26-03-2021/Ref_bead_26-03-2021.xlsx', sheet_name='430 um Beads')\n",
    "    \n",
    "    bead_200_flt = bead_200[bead_200['TOF'] > 600]\n",
    "    bead_430_flt = bead_430[bead_430['TOF'] > 1800]\n",
    "    \n",
    "    x = np.array([200]*95+ [430]*96).reshape((-1, 1))\n",
    "    x.shape\n",
    "    y = np.array(list(bead_200_flt['TOF'])+list(bead_430_flt['TOF']))\n",
    "    y.shape\n",
    "    \n",
    "    model = LinearRegression().fit(x, y)    \n",
    "    sl=model.coef_[0]\n",
    "    intc =  model.intercept_    \n",
    "    size = (eg_data['TOF'] - intc) / sl\n",
    "    eg_data['Size'] = size\n",
    "    return(eg_data)\n",
    "\n",
    "#this function specifies a polynomial function with 8 orders. \n",
    "#Source: https://stackoverflow.com/questions/48469889/how-to-fit-a-polynomial-with-some-of-the-coefficients-constrained\n",
    "def func(x, a, b, c, d, e, f, g, h, i):\n",
    "  return a + b * x + c * x ** 2 + d * x ** 3 + e * x ** 4 + f * x ** 5 + g * x ** 6 + h * x ** 7+ i * x ** 8\n",
    "\n",
    "#This function computes the area under a curve with a a polynomial function with 8 orders fit to it\n",
    "def compute_area(x,coefs):\n",
    "    area = sum(coefs[0] + coefs[1]*x + coefs[2]*x**2+ coefs[3]*x**3 + coefs[4]*x**4 +\n",
    "               coefs[5]*x**5 + coefs[6]*x**6+ coefs[7]*x**7+ coefs[8]*x**8)\n",
    "    return area\n",
    "        \n",
    "#This function extracts information (e.g. Ellipticalness index, EI, W: the highest recorded extinction by Biosorter for an object,\n",
    "#L: the length of object, i.e. TOF, WL: the ratio of W to L which corresponds to the orientation of the elliptical object)\n",
    "# The input data for this function are Biosorter output (the summary file and optical density).\n",
    "def extract_optical_density(bio_data, opt_data):\n",
    "    all_EI, all_W, all_L, all_WL = [], [], [], []\n",
    "    #find the matching data in the 2 input files for each object using 'Id'\n",
    "    for i in bio_data['Id']:\n",
    "        #Each object has 4 optical density reading (each stored as a column in optical density file, we will \n",
    "        #only use the first one which corresponds to Extinction) \n",
    "        #remove zero values in the optical density data\n",
    "        optden_nonzero = opt_data[str(i)][opt_data[str(i)]>0]    \n",
    "        #if object is small, set all parameters to 0\n",
    "        if len(optden_nonzero) <= 11:\n",
    "            W, EI, L, WL = max(optden_nonzero), 0, 0,0\n",
    "            all_EI.append(EI)\n",
    "            all_W.append(W)\n",
    "            all_L.append(L)\n",
    "            all_WL.append(WL)   \n",
    "        #if object is big compute parameters    \n",
    "        if len(optden_nonzero) > 11:\n",
    "            #L: corresponds to the recorded data for TOF\n",
    "            L = len(optden_nonzero)\n",
    "            #W: The Maximum recorded Extinction for an object\n",
    "            W = max(optden_nonzero) - min(optden_nonzero)\n",
    "            #Compute the Elliptical area using the estimated L and W. Note that it is divided by 2 because \n",
    "            #we will compare it with the area of an object under the optical density curve which is half an ellipse. \n",
    "            EllipArea = (math.pi*W*(L/2))/2\n",
    "            #fit a curve to the optical density data\n",
    "            X = np.linspace(0.5, L+0.5, L)\n",
    "            ry = optden_nonzero - min(optden_nonzero)     \n",
    "            popt_cons, popt_covar = curve_fit(func, X, ry)\n",
    "            #compute the area under the optical density file\n",
    "            Area = compute_area(X, popt_cons)\n",
    "            #compute Ellipticalness index\n",
    "            EI = Area/EllipArea  \n",
    "            WL = W/L\n",
    "            all_EI.append(EI)\n",
    "            all_W.append(W)             \n",
    "            all_L.append(L)\n",
    "            all_WL.append(WL)\n",
    "    return(all_EI, all_W, all_L, all_WL)   \n",
    "\n",
    "#This function computes size, EI, W, L and W/L and append to the original dataset \n",
    "def compute_size_EI_WL(bio_data,opt_data):\n",
    "    #remove columns that are not needed\n",
    "    bio_data.drop(['Plate','Source well', 'Clog','PC Extinction',\n",
    "                  'PC BFP','PC GFP','PC dsRED', 'Unnamed: 26'], inplace=True, axis=1)\n",
    "    \n",
    "    bio_data_sz = compute_append_size(bio_data)\n",
    "    bio_data_sz['EI'],bio_data_sz['W'], bio_data_sz['L'], bio_data_sz['W/L']= extract_optical_density(bio_data_sz, opt_data)       \n",
    "    return bio_data_sz\n",
    "\n",
    "#This function keeps the sorted objects, and then merges biosorter and manual measurements, \n",
    "#it also compute difference between manual and biosorter size\n",
    "def merge_bio_sorter_manual(bio_data_sz,man_data):\n",
    "    bio_data_sz_sz_srt = bio_data_sz[bio_data_sz['Sorted status'] == 6]\n",
    "    bio_data_sz_sz_srt['plate_well'] = bio_data_sz_sz_srt['Row']+'_'+bio_data_sz_sz_srt['Column'].astype(int).astype(str)\n",
    "    data_bio_man = pd.merge(bio_data_sz_sz_srt,man_data, how=\"inner\", on= ['plate_well'])    \n",
    "    data_bio_man['diff'] = data_bio_man['length(µm)'] - data_bio_man['Size']\n",
    "    return data_bio_man\n"
   ]
  },
  {
   "cell_type": "markdown",
   "id": "52427c45",
   "metadata": {},
   "source": [
    "# 4. Comparison of Biosorter size estimates and manual measurements "
   ]
  },
  {
   "cell_type": "markdown",
   "id": "1707f12d",
   "metadata": {},
   "source": [
    "## 4.1 Input files \n",
    "\n",
    "### The manual measurements and the corresponding Biosorter runs have been performed on 2 days. For each day we will have biosorter data and manual measurements (done manually in ImageJ)."
   ]
  },
  {
   "cell_type": "markdown",
   "id": "78714903",
   "metadata": {},
   "source": [
    "## Biosorter summary files\n",
    "\n",
    "### The first file is Biosorter output that contains information about TOF, Extinction and fluorescence absorbance (summary file). We remove rows at the end of the file about specifications of each run that are not needed."
   ]
  },
  {
   "cell_type": "code",
   "execution_count": 4,
   "id": "13622b3f",
   "metadata": {},
   "outputs": [],
   "source": [
    "#12/04/2022 measurement\n",
    "R12_1_bio = pd.read_table('../data/Drosophila_eggs_OD1_5_1xPBS_12-04-2022/R12.txt')\n",
    "R12_1_bio=R12_1_bio.drop(R12_1_bio.index[3120:])\n",
    "\n",
    "#20/06/2022 measurement\n",
    "R12_2_bio = pd.read_table('../data/Drosophila_eggs_OD1_5_1xPBS_20-06-2022/test4_sort_R12.txt')\n",
    "R12_2_bio=R12_2_bio.drop(R12_2_bio.index[1506:])"
   ]
  },
  {
   "cell_type": "markdown",
   "id": "d461fd12",
   "metadata": {},
   "source": [
    "## Optical density files\n",
    "\n",
    "### The second file contains the optical density data. This file contains columns that correspond to each object in the summary file. Each object has 4 corresponding columns. We only need the first one which corresponds to Extinction, the other 3 correspond to 3 fluorescence laser. We remove the columns that are not needed."
   ]
  },
  {
   "cell_type": "code",
   "execution_count": 5,
   "id": "95d090f2",
   "metadata": {},
   "outputs": [],
   "source": [
    "#12/04/2022 measurement\n",
    "R12_1_opt = pd.read_table('../data/Drosophila_eggs_OD1_5_1xPBS_12-04-2022/R12_prf.txt')\n",
    "\n",
    "#20/06/2022 measurement\n",
    "R12_2_opt = pd.read_table('../data/Drosophila_eggs_OD1_5_1xPBS_20-06-2022/test4_sort_R12_prf.txt')"
   ]
  },
  {
   "cell_type": "markdown",
   "id": "474d1c4a",
   "metadata": {},
   "source": [
    "## Manual measurements"
   ]
  },
  {
   "cell_type": "code",
   "execution_count": 6,
   "id": "c9293d0b",
   "metadata": {},
   "outputs": [],
   "source": [
    "#12/04/2022 measurement\n",
    "R12_1_man = pd.read_excel(r'../claudia/manual_egg_size_12042022.xlsx', sheet_name='R12_length')\n",
    "\n",
    "#20/06/2022 measurement\n",
    "R12_2_man = pd.read_excel(r'../claudia/manual_egg_size_20062022.xlsx', sheet_name='R12_length')"
   ]
  },
  {
   "cell_type": "markdown",
   "id": "33810740",
   "metadata": {},
   "source": [
    "## 4.2 Feature extraction\n",
    "\n",
    "### We compute size, Ellipticalness index, and W/L ratio."
   ]
  },
  {
   "cell_type": "code",
   "execution_count": 7,
   "id": "9327346a",
   "metadata": {},
   "outputs": [],
   "source": [
    "R12_1_bio_sz = compute_size_EI_WL(R12_1_bio,R12_1_opt)\n",
    "R12_2_bio_sz = compute_size_EI_WL(R12_2_bio,R12_2_opt)"
   ]
  },
  {
   "cell_type": "markdown",
   "id": "812a0c75",
   "metadata": {},
   "source": [
    "### we merge biosorter and manual measurements"
   ]
  },
  {
   "cell_type": "code",
   "execution_count": 8,
   "id": "d450d719",
   "metadata": {},
   "outputs": [
    {
     "name": "stderr",
     "output_type": "stream",
     "text": [
      "<ipython-input-3-be41fdd97005>:88: SettingWithCopyWarning: \n",
      "A value is trying to be set on a copy of a slice from a DataFrame.\n",
      "Try using .loc[row_indexer,col_indexer] = value instead\n",
      "\n",
      "See the caveats in the documentation: https://pandas.pydata.org/pandas-docs/stable/user_guide/indexing.html#returning-a-view-versus-a-copy\n",
      "  bio_data_sz_sz_srt['plate_well'] = bio_data_sz_sz_srt['Row']+'_'+bio_data_sz_sz_srt['Column'].astype(int).astype(str)\n",
      "<ipython-input-3-be41fdd97005>:88: SettingWithCopyWarning: \n",
      "A value is trying to be set on a copy of a slice from a DataFrame.\n",
      "Try using .loc[row_indexer,col_indexer] = value instead\n",
      "\n",
      "See the caveats in the documentation: https://pandas.pydata.org/pandas-docs/stable/user_guide/indexing.html#returning-a-view-versus-a-copy\n",
      "  bio_data_sz_sz_srt['plate_well'] = bio_data_sz_sz_srt['Row']+'_'+bio_data_sz_sz_srt['Column'].astype(int).astype(str)\n"
     ]
    }
   ],
   "source": [
    "R12_1_bio_man = merge_bio_sorter_manual(R12_1_bio_sz,R12_1_man)\n",
    "R12_2_bio_man = merge_bio_sorter_manual(R12_2_bio_sz,R12_2_man)"
   ]
  },
  {
   "cell_type": "markdown",
   "id": "0a4a92cf",
   "metadata": {},
   "source": [
    "### We pool measurements done on 2 days."
   ]
  },
  {
   "cell_type": "code",
   "execution_count": 9,
   "id": "78caa5d8",
   "metadata": {},
   "outputs": [],
   "source": [
    "all_bio_man = pd.concat([R12_1_bio_man,R12_2_bio_man])"
   ]
  },
  {
   "cell_type": "code",
   "execution_count": 10,
   "id": "7b29971e",
   "metadata": {},
   "outputs": [
    {
     "data": {
      "text/html": [
       "<div>\n",
       "<style scoped>\n",
       "    .dataframe tbody tr th:only-of-type {\n",
       "        vertical-align: middle;\n",
       "    }\n",
       "\n",
       "    .dataframe tbody tr th {\n",
       "        vertical-align: top;\n",
       "    }\n",
       "\n",
       "    .dataframe thead th {\n",
       "        text-align: right;\n",
       "    }\n",
       "</style>\n",
       "<table border=\"1\" class=\"dataframe\">\n",
       "  <thead>\n",
       "    <tr style=\"text-align: right;\">\n",
       "      <th></th>\n",
       "      <th>Id</th>\n",
       "      <th>Time</th>\n",
       "      <th>Row</th>\n",
       "      <th>Column</th>\n",
       "      <th>Sorted status</th>\n",
       "      <th>In Regions</th>\n",
       "      <th>TOF</th>\n",
       "      <th>Extinction</th>\n",
       "      <th>BFP</th>\n",
       "      <th>GFP</th>\n",
       "      <th>...</th>\n",
       "      <th>Size</th>\n",
       "      <th>EI</th>\n",
       "      <th>W</th>\n",
       "      <th>L</th>\n",
       "      <th>W/L</th>\n",
       "      <th>plate_well</th>\n",
       "      <th>id</th>\n",
       "      <th>gate</th>\n",
       "      <th>length(µm)</th>\n",
       "      <th>diff</th>\n",
       "    </tr>\n",
       "  </thead>\n",
       "  <tbody>\n",
       "    <tr>\n",
       "      <th>0</th>\n",
       "      <td>466</td>\n",
       "      <td>15246661</td>\n",
       "      <td>A</td>\n",
       "      <td>1.0</td>\n",
       "      <td>6.0</td>\n",
       "      <td>1.000000e+18</td>\n",
       "      <td>1960.0</td>\n",
       "      <td>894.0</td>\n",
       "      <td>175.0</td>\n",
       "      <td>1458.0</td>\n",
       "      <td>...</td>\n",
       "      <td>412.717692</td>\n",
       "      <td>0.992048</td>\n",
       "      <td>42744</td>\n",
       "      <td>245</td>\n",
       "      <td>174.465306</td>\n",
       "      <td>A_1</td>\n",
       "      <td>1</td>\n",
       "      <td>12</td>\n",
       "      <td>527.200</td>\n",
       "      <td>114.482308</td>\n",
       "    </tr>\n",
       "    <tr>\n",
       "      <th>1</th>\n",
       "      <td>499</td>\n",
       "      <td>15247123</td>\n",
       "      <td>A</td>\n",
       "      <td>2.0</td>\n",
       "      <td>6.0</td>\n",
       "      <td>1.000000e+18</td>\n",
       "      <td>1944.0</td>\n",
       "      <td>794.0</td>\n",
       "      <td>206.0</td>\n",
       "      <td>1408.0</td>\n",
       "      <td>...</td>\n",
       "      <td>410.024345</td>\n",
       "      <td>0.848459</td>\n",
       "      <td>43804</td>\n",
       "      <td>243</td>\n",
       "      <td>180.263374</td>\n",
       "      <td>A_2</td>\n",
       "      <td>2</td>\n",
       "      <td>12</td>\n",
       "      <td>531.078</td>\n",
       "      <td>121.053655</td>\n",
       "    </tr>\n",
       "    <tr>\n",
       "      <th>2</th>\n",
       "      <td>577</td>\n",
       "      <td>15248057</td>\n",
       "      <td>A</td>\n",
       "      <td>3.0</td>\n",
       "      <td>6.0</td>\n",
       "      <td>1.000000e+18</td>\n",
       "      <td>2056.0</td>\n",
       "      <td>619.0</td>\n",
       "      <td>308.0</td>\n",
       "      <td>1413.0</td>\n",
       "      <td>...</td>\n",
       "      <td>428.877772</td>\n",
       "      <td>0.717282</td>\n",
       "      <td>36792</td>\n",
       "      <td>257</td>\n",
       "      <td>143.159533</td>\n",
       "      <td>A_3</td>\n",
       "      <td>3</td>\n",
       "      <td>12</td>\n",
       "      <td>534.644</td>\n",
       "      <td>105.766228</td>\n",
       "    </tr>\n",
       "    <tr>\n",
       "      <th>3</th>\n",
       "      <td>818</td>\n",
       "      <td>15251122</td>\n",
       "      <td>A</td>\n",
       "      <td>4.0</td>\n",
       "      <td>6.0</td>\n",
       "      <td>1.000000e+18</td>\n",
       "      <td>2096.0</td>\n",
       "      <td>661.0</td>\n",
       "      <td>384.0</td>\n",
       "      <td>1370.0</td>\n",
       "      <td>...</td>\n",
       "      <td>435.611139</td>\n",
       "      <td>0.733623</td>\n",
       "      <td>39552</td>\n",
       "      <td>262</td>\n",
       "      <td>150.961832</td>\n",
       "      <td>A_4</td>\n",
       "      <td>4</td>\n",
       "      <td>12</td>\n",
       "      <td>500.061</td>\n",
       "      <td>64.449861</td>\n",
       "    </tr>\n",
       "    <tr>\n",
       "      <th>4</th>\n",
       "      <td>974</td>\n",
       "      <td>15252999</td>\n",
       "      <td>A</td>\n",
       "      <td>5.0</td>\n",
       "      <td>6.0</td>\n",
       "      <td>1.000000e+18</td>\n",
       "      <td>1984.0</td>\n",
       "      <td>808.0</td>\n",
       "      <td>356.0</td>\n",
       "      <td>1455.0</td>\n",
       "      <td>...</td>\n",
       "      <td>416.757712</td>\n",
       "      <td>0.910245</td>\n",
       "      <td>41504</td>\n",
       "      <td>248</td>\n",
       "      <td>167.354839</td>\n",
       "      <td>A_5</td>\n",
       "      <td>5</td>\n",
       "      <td>12</td>\n",
       "      <td>523.725</td>\n",
       "      <td>106.967288</td>\n",
       "    </tr>\n",
       "  </tbody>\n",
       "</table>\n",
       "<p>5 rows × 29 columns</p>\n",
       "</div>"
      ],
      "text/plain": [
       "    Id      Time Row  Column  Sorted status    In Regions     TOF  Extinction  \\\n",
       "0  466  15246661   A     1.0            6.0  1.000000e+18  1960.0       894.0   \n",
       "1  499  15247123   A     2.0            6.0  1.000000e+18  1944.0       794.0   \n",
       "2  577  15248057   A     3.0            6.0  1.000000e+18  2056.0       619.0   \n",
       "3  818  15251122   A     4.0            6.0  1.000000e+18  2096.0       661.0   \n",
       "4  974  15252999   A     5.0            6.0  1.000000e+18  1984.0       808.0   \n",
       "\n",
       "     BFP     GFP  ...        Size        EI      W    L         W/L  \\\n",
       "0  175.0  1458.0  ...  412.717692  0.992048  42744  245  174.465306   \n",
       "1  206.0  1408.0  ...  410.024345  0.848459  43804  243  180.263374   \n",
       "2  308.0  1413.0  ...  428.877772  0.717282  36792  257  143.159533   \n",
       "3  384.0  1370.0  ...  435.611139  0.733623  39552  262  150.961832   \n",
       "4  356.0  1455.0  ...  416.757712  0.910245  41504  248  167.354839   \n",
       "\n",
       "   plate_well  id  gate  length(µm)        diff  \n",
       "0         A_1   1    12     527.200  114.482308  \n",
       "1         A_2   2    12     531.078  121.053655  \n",
       "2         A_3   3    12     534.644  105.766228  \n",
       "3         A_4   4    12     500.061   64.449861  \n",
       "4         A_5   5    12     523.725  106.967288  \n",
       "\n",
       "[5 rows x 29 columns]"
      ]
     },
     "execution_count": 10,
     "metadata": {},
     "output_type": "execute_result"
    }
   ],
   "source": [
    "all_bio_man.head()"
   ]
  },
  {
   "cell_type": "markdown",
   "id": "0a354804",
   "metadata": {},
   "source": [
    "## We visualize the extracted features\n",
    "\n",
    "### First have a look at correlation of difference between Biosorter and manual measurement and W/L ratio (a proxy for object orientation)"
   ]
  },
  {
   "cell_type": "code",
   "execution_count": 11,
   "id": "6de4c52a",
   "metadata": {},
   "outputs": [
    {
     "data": {
      "text/plain": [
       "SpearmanrResult(correlation=0.3401507328576052, pvalue=0.0009082335516817418)"
      ]
     },
     "execution_count": 11,
     "metadata": {},
     "output_type": "execute_result"
    },
    {
     "data": {
      "image/png": "[encoded data removed]",
      "text/plain": [
       "<Figure size 432x288 with 1 Axes>"
      ]
     },
     "metadata": {
      "needs_background": "light"
     },
     "output_type": "display_data"
    }
   ],
   "source": [
    "plt.scatter(all_bio_man['diff'], all_bio_man['W/L'])\n",
    "spearmanr(all_bio_man['diff'], all_bio_man['W/L'])"
   ]
  },
  {
   "cell_type": "markdown",
   "id": "90785ae1",
   "metadata": {},
   "source": [
    "### Then we look at the correlation between manual measurement and W/L ratio (a proxy for object orientation)"
   ]
  },
  {
   "cell_type": "code",
   "execution_count": 12,
   "id": "2bf9b4bd",
   "metadata": {},
   "outputs": [
    {
     "data": {
      "text/plain": [
       "SpearmanrResult(correlation=-0.15073285760522787, pvalue=0.15150958614693455)"
      ]
     },
     "execution_count": 12,
     "metadata": {},
     "output_type": "execute_result"
    },
    {
     "data": {
      "image/png": "[encoded data removed]",
      "text/plain": [
       "<Figure size 432x288 with 1 Axes>"
      ]
     },
     "metadata": {
      "needs_background": "light"
     },
     "output_type": "display_data"
    }
   ],
   "source": [
    "plt.scatter(all_bio_man['length(µm)'], all_bio_man['W/L'])\n",
    "spearmanr(all_bio_man['length(µm)'], all_bio_man['W/L'])"
   ]
  },
  {
   "cell_type": "markdown",
   "id": "583d3369",
   "metadata": {},
   "source": [
    "### And finally, we look at the correlation between Biosorter estimated size and W/L ratio (a proxy for object orientation)"
   ]
  },
  {
   "cell_type": "code",
   "execution_count": 13,
   "id": "4fdf3028",
   "metadata": {},
   "outputs": [
    {
     "data": {
      "text/plain": [
       "SpearmanrResult(correlation=-0.44068152810543443, pvalue=1.1013327924097832e-05)"
      ]
     },
     "execution_count": 13,
     "metadata": {},
     "output_type": "execute_result"
    },
    {
     "data": {
      "image/png": "[encoded data removed]",
      "text/plain": [
       "<Figure size 432x288 with 1 Axes>"
      ]
     },
     "metadata": {
      "needs_background": "light"
     },
     "output_type": "display_data"
    }
   ],
   "source": [
    "plt.scatter(all_bio_man['Size'], all_bio_man['W/L'])\n",
    "spearmanr(all_bio_man['Size'], all_bio_man['W/L'])"
   ]
  },
  {
   "cell_type": "markdown",
   "id": "6bfa89b8",
   "metadata": {},
   "source": [
    "## The difference between Biosorter and manual measurements are positively correlated with W/L. It means that if the orientation of an egg is not correct the difference between biosorter and manual measurement will be more. Thus, we will sort the data to remove outliers with extreme EI and W/L.\n",
    "\n",
    "## 4.3 Data filtering\n",
    "\n",
    "### We filter for the objects with EI and W/L outside median +/- sd/2 and those objects with extreme difference between the two measurements."
   ]
  },
  {
   "cell_type": "code",
   "execution_count": 14,
   "id": "4cbcaf50",
   "metadata": {},
   "outputs": [],
   "source": [
    "med_EI=np.median(all_bio_man['EI'])\n",
    "std_EI=np.std(all_bio_man['EI'])\n",
    "all_bio_man_flt1 = all_bio_man[(all_bio_man['EI'] >= med_EI-(std_EI/2)) & (all_bio_man['EI'] <= med_EI+(std_EI/2))]\n",
    "\n",
    "med_WL=np.median(all_bio_man['W/L'])\n",
    "std_WL=np.std(all_bio_man['W/L'])\n",
    "all_bio_man_flt2 = all_bio_man_flt1[(all_bio_man_flt1['W/L'] <= med_WL+(std_WL/2))]\n",
    "\n",
    "all_bio_man_flt3 = all_bio_man[(all_bio_man['diff'] <= 85)]"
   ]
  },
  {
   "cell_type": "markdown",
   "id": "e7f310b0",
   "metadata": {},
   "source": [
    "## We visualize the correlation between Biosorter and manual measurements."
   ]
  },
  {
   "cell_type": "code",
   "execution_count": 15,
   "id": "cc71efdc",
   "metadata": {},
   "outputs": [
    {
     "data": {
      "image/png": "[encoded data removed]",
      "text/plain": [
       "<Figure size 600x500 with 1 Axes>"
      ]
     },
     "metadata": {},
     "output_type": "display_data"
    }
   ],
   "source": [
    "fig , ax = plt.subplots(sharex=True, sharey=True,figsize=(6,5),dpi=100, facecolor='w', edgecolor='k')    \n",
    "plt.scatter(all_bio_man_flt3['length(µm)'], all_bio_man_flt3['Size'],marker='o', color='maroon')\n",
    "plt.xlim(480,580)\n",
    "plt.ylim(400,500)\n",
    "plt.annotate(r'$\\rho$ = %.3f'%(np.round(spearmanr(all_bio_man_flt3['length(µm)'], all_bio_man_flt3['Size'])[0],3)), xy=(560,470),fontsize=10)\n",
    "plt.annotate('$\\it{p}$-val < 0.001', xy=(559,460),fontsize=10)\n",
    "plt.xlabel('Size (manual)', fontsize=12) \n",
    "plt.ylabel('Size (Biosorter)', fontsize=12)\n",
    "plt.savefig('../plots/final_plots/R12_manual_biosorter_size_correlation.png', dpi=100,format='png', bbox_inches = 'tight')\n",
    "plt.savefig('../plots/final_plots/R12_manual_biosorter_size_correlation.svg', dpi=100,format='svg', bbox_inches = 'tight')\n"
   ]
  }
 ],
 "metadata": {
  "kernelspec": {
   "display_name": "Python 3",
   "language": "python",
   "name": "python3"
  },
  "language_info": {
   "codemirror_mode": {
    "name": "ipython",
    "version": 3
   },
   "file_extension": ".py",
   "mimetype": "text/x-python",
   "name": "python",
   "nbconvert_exporter": "python",
   "pygments_lexer": "ipython3",
   "version": "3.8.8"
  }
 },
 "nbformat": 4,
 "nbformat_minor": 5
}
