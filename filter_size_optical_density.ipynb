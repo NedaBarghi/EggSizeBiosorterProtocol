{
 "cells": [
  {
   "cell_type": "markdown",
   "id": "349f5da1",
   "metadata": {},
   "source": [
    "# 1. Import libraries"
   ]
  },
  {
   "cell_type": "code",
   "execution_count": 2,
   "id": "a9c036cf",
   "metadata": {},
   "outputs": [],
   "source": [
    "import pandas as pd \n",
    "import math\n",
    "import matplotlib.pyplot as plt \n",
    "import os\n",
    "import numpy as np\n",
    "from sklearn.linear_model import LinearRegression\n",
    "from scipy.optimize import curve_fit\n",
    "from sklearn.model_selection import GridSearchCV\n",
    "from sklearn.model_selection import KFold\n",
    "from sklearn.neighbors import KernelDensity\n",
    "from scipy.signal import argrelextrema"
   ]
  },
  {
   "cell_type": "markdown",
   "id": "33892a1d",
   "metadata": {},
   "source": [
    "# 2. Change the working directory"
   ]
  },
  {
   "cell_type": "code",
   "execution_count": 3,
   "id": "37a7d91b",
   "metadata": {},
   "outputs": [
    {
     "data": {
      "text/plain": [
       "'/Users/neda/Dropbox (PopGen)/tmp/egg_size_method_paper/scripts'"
      ]
     },
     "execution_count": 3,
     "metadata": {},
     "output_type": "execute_result"
    }
   ],
   "source": [
    "os.chdir('/Users/neda/Dropbox (PopGen)/tmp/egg_size_method_paper/scripts/')\n",
    "os.getcwd()"
   ]
  },
  {
   "cell_type": "markdown",
   "id": "41f47f61",
   "metadata": {},
   "source": [
    "# 3. Functions"
   ]
  },
  {
   "cell_type": "code",
   "execution_count": 4,
   "id": "774e7160",
   "metadata": {},
   "outputs": [],
   "source": [
    "#This function computes the intercept&slope from the reference beads, converts TOF to size and appends size to the original data\n",
    "def compute_append_size(eg_data):\n",
    "    bead_200 = pd.read_excel('../data/Drosophila_eggs_OD1_5_1xPBS_26-03-2021/Ref_bead_26-03-2021.xlsx', sheet_name='200 um Beads')\n",
    "    bead_430 = pd.read_excel('../data/Drosophila_eggs_OD1_5_1xPBS_26-03-2021/Ref_bead_26-03-2021.xlsx', sheet_name='430 um Beads')\n",
    "    \n",
    "    bead_200_flt = bead_200[bead_200['TOF'] > 600]\n",
    "    bead_430_flt = bead_430[bead_430['TOF'] > 1800]\n",
    "    \n",
    "    x = np.array([200]*95+ [430]*96).reshape((-1, 1))\n",
    "    x.shape\n",
    "    y = np.array(list(bead_200_flt['TOF'])+list(bead_430_flt['TOF']))\n",
    "    y.shape\n",
    "    \n",
    "    model = LinearRegression().fit(x, y)    \n",
    "    sl=model.coef_[0]\n",
    "    intc =  model.intercept_    \n",
    "    size = (eg_data['TOF'] - intc) / sl\n",
    "    eg_data['Size'] = size\n",
    "    return(eg_data)\n",
    "\n",
    "#this function estimates the best bandwidth for smoothing kernel density of the provided dataset \n",
    "#it then fits guassian density kernel to the provided dataset \n",
    "def find_best_bandwidth(eg_data):    \n",
    "    #convert the egg size data to numpy array\n",
    "    eg = np.array(eg_data['Size'])\n",
    "    #this is a default set of bandwidth to test\n",
    "    bandwidths = 20 ** np.linspace(-1, 1, 20)\n",
    "    #assess the scores of different bandwidth to find the best FROM the pre-defined set\n",
    "    grid = GridSearchCV(KernelDensity(kernel='gaussian'),{'bandwidth': bandwidths}, cv=KFold(n_splits=5, shuffle=True, random_state=2))\n",
    "    grid.fit(eg[:, None]);\n",
    "    #this is your best bandwidth\n",
    "    best_bw = grid.best_params_['bandwidth']\n",
    "    return best_bw\n",
    "\n",
    "#this function specifies a polynomial function with 8 orders. \n",
    "#Source: https://stackoverflow.com/questions/48469889/how-to-fit-a-polynomial-with-some-of-the-coefficients-constrained\n",
    "def func(x, a, b, c, d, e, f, g, h, i):\n",
    "  return a + b * x + c * x ** 2 + d * x ** 3 + e * x ** 4 + f * x ** 5 + g * x ** 6 + h * x ** 7+ i * x ** 8\n",
    "\n",
    "#This function computes the area under a curve with a a polynomial function with 8 orders fit to it\n",
    "def compute_area(x,coefs):\n",
    "    area = sum(coefs[0] + coefs[1]*x + coefs[2]*x**2+ coefs[3]*x**3 + coefs[4]*x**4 +\n",
    "               coefs[5]*x**5 + coefs[6]*x**6+ coefs[7]*x**7+ coefs[8]*x**8)\n",
    "    return area\n",
    "        \n",
    "#This function extracts information (e.g. Ellipticalness index, EI, W: the highest recorded extinction by Biosorter for an object,\n",
    "#L: the length of object, i.e. TOF, WL: the ratio of W to L which corresponds to the orientation of the elliptical object)\n",
    "# The input data for this function are Biosorter output (the summary file and optical density).\n",
    "def extract_optical_density(bio_data, opt_data):\n",
    "    all_EI, all_W, all_L, all_WL = [], [], [], []\n",
    "    #find the matching data in the 2 input files for each object using 'Id'\n",
    "    for i in bio_data['Id']:\n",
    "        #Each object has 4 optical density reading (each stored as a column in optical density file, we will \n",
    "        #only use the first one which corresponds to Extinction) \n",
    "        #remove zero values in the optical density data\n",
    "        optden_nonzero = opt_data[str(i)][opt_data[str(i)]>0]    \n",
    "        #if object is small (threshold of 11 is arbitrary), set all parameters to 0\n",
    "        if len(optden_nonzero) <= 11:\n",
    "            W, EI, L, WL = max(optden_nonzero), 0, 0,0\n",
    "            all_EI.append(EI)\n",
    "            all_W.append(W)\n",
    "            all_L.append(L)\n",
    "            all_WL.append(WL)   \n",
    "        #if object is big compute parameters    \n",
    "        if len(optden_nonzero) > 11:\n",
    "            #L: corresponds to the recorded data for TOF\n",
    "            L = len(optden_nonzero)\n",
    "            #W: The Maximum recorded Extinction for an object\n",
    "            W = max(optden_nonzero) - min(optden_nonzero)\n",
    "            #Compute the Elliptical area using the estimated L and W. Note that it is divided by 2 because \n",
    "            #we will compare it with the area of an object under the optical density curve which is half an ellipse. \n",
    "            EllipArea = (math.pi*W*(L/2))/2\n",
    "            #fit a curve to the optical density data\n",
    "            X = np.linspace(0.5, L+0.5, L)\n",
    "            ry = optden_nonzero - min(optden_nonzero)     \n",
    "            popt_cons, popt_covar = curve_fit(func, X, ry)\n",
    "            #compute the area under the optical density file\n",
    "            Area = compute_area(X, popt_cons)\n",
    "            #compute Ellipticalness index\n",
    "            EI = Area/EllipArea  \n",
    "            WL = W/L\n",
    "            all_EI.append(EI)\n",
    "            all_W.append(W)             \n",
    "            all_L.append(L)\n",
    "            all_WL.append(WL)\n",
    "    return(all_EI, all_W, all_L, all_WL)   \n",
    "\n",
    "#this function finds the border between egg debris/misaligned eggs and eggs.\n",
    "#This function fits a guassian density kernel to data using the provided bandwidth. Assuming the data is bimodal,\n",
    "#it then finds the first minimum point between the two modes which will be chosen as the border to separate modes\n",
    "def find_border_KDE(eg_data, bw):\n",
    "    #reshape the numpy array of egg size data\n",
    "    egre = np.array(eg_data['Size'])[:, np.newaxis]\n",
    "    #generate some data within the range of egg size\n",
    "    egre_plot = np.linspace(0, 800, 1000)[:, np.newaxis]\n",
    "    #Fit the Kernel Density model on the data.\n",
    "    kde = KernelDensity(kernel='gaussian', bandwidth=bw).fit(egre)\n",
    "    #Compute the log-likelihood of each sample under the model.\n",
    "    log_dens = kde.score_samples(egre_plot) \n",
    "    #find the minima points in the dataset, i.e. the border between the two peaks\n",
    "    #source: https://stackoverflow.com/questions/35094454/how-would-one-use-kernel-density-estimation-as-a-1d-clustering-method-in-scikit/35151947#35151947\n",
    "    mi = argrelextrema(log_dens, np.less)[0] #(these are the y values, so their indices are the cut off for size)\n",
    "    #plot the kernel density estimation\n",
    "    fig, ax = plt.subplots(sharex=True, sharey=True)\n",
    "    ax.plot(egre_plot[:, 0], np.exp(log_dens), color='maroon')\n",
    "    #plot the border between the two peaks\n",
    "    plt.vlines(x=egre_plot[mi][0], ymin=0, ymax=max(np.exp(log_dens)))\n",
    "    plt.xlabel('Size')\n",
    "    plt.ylabel('Density')           \n",
    "    return egre_plot[mi][0][0]\n",
    "\n",
    "#This function filters the Biosorter summary data using the estimated border\n",
    "def remove_dust(eg_data, eg_bor):\n",
    "    eg_data_flt = eg_data[eg_data['Size'] > eg_bor]\n",
    "    return(eg_data_flt)\n",
    "\n",
    "#this function is a compilation of multiple functions\n",
    "#All the included functions are described above\n",
    "def filter_dust_eggsize(eg_data):\n",
    "    sam_bw = find_best_bandwidth(eg_data,)\n",
    "    sam_bor = find_border_KDE(eg_data,sam_bw)\n",
    "    sam_flt = remove_dust(eg_data, sam_bor)\n",
    "    sam_flt_bw = find_best_bandwidth(sam_flt,)\n",
    "    return (sam_flt,sam_flt_bw,sam_bor,sam_bw) #the order of output: filtered dataset, bandwidth of filtered dataset, border, bandwidth of unfiltered datset\n",
    "\n",
    "#this function performs multiple filtering steps\n",
    "#All the included functions are described above\n",
    "#1. size, 2. EI, 3.W/L and 4. size\n",
    "def filter_size_EI_WL_size(bio_data, opt_data):\n",
    "    #remove columns that are not needed\n",
    "    bio_data.drop(['Plate', 'Row', 'Column', 'Source well', 'Clog','PC Extinction',\n",
    "                  'PC BFP','PC GFP','PC dsRED', 'Unnamed: 26'], inplace=True, axis=1)\n",
    "    \n",
    "    bio_data_sz = compute_append_size(bio_data)\n",
    "    bio_data_sz['EI'],bio_data_sz['W'], bio_data_sz['L'], bio_data_sz['W/L']= extract_optical_density(bio_data_sz, opt_data)       \n",
    "    bio_data_flt, bio_data_flt_bw, bio_data_bor, bio_data_bw = filter_dust_eggsize(bio_data_sz)\n",
    "    \n",
    "    #filter for the median of EI and W/L\n",
    "    med_EI=np.median(bio_data_flt['EI'])\n",
    "    std_EI=np.std(bio_data_flt['EI'])\n",
    "    bio_data_flt2 = bio_data_flt[(bio_data_flt['EI'] >= med_EI-(std_EI/2)) & (bio_data_flt['EI'] <= med_EI+(std_EI/2))]\n",
    "    \n",
    "    med_WL=np.median(bio_data_flt['W/L'])\n",
    "    std_WL=np.std(bio_data_flt['W/L'])\n",
    "    bio_data_flt3 = bio_data_flt2[(bio_data_flt2['W/L'] >= med_WL-(std_WL/2)) & (bio_data_flt2['W/L'] <= med_WL+(std_WL/2))]\n",
    "    \n",
    "    bio_data_flt4, bio_data_flt_bw, bio_data_bor, bio_data_bw = filter_dust_eggsize(bio_data_flt3)\n",
    "    \n",
    "    return(bio_data_flt,bio_data_flt2,bio_data_flt3,bio_data_flt4, bio_data_flt_bw, bio_data_bor, bio_data_bw)\n"
   ]
  },
  {
   "cell_type": "markdown",
   "id": "e40767cc",
   "metadata": {},
   "source": [
    "# 4. Step by step process of filtering Biosorter runs\n",
    "\n",
    "## 4.1 Input files\n",
    "\n",
    "### 4.1.1. The first file is Biosorter output that contains information about TOF, Extinction and fluorescence absorbance (summary file)."
   ]
  },
  {
   "cell_type": "code",
   "execution_count": 5,
   "id": "9e6df253",
   "metadata": {},
   "outputs": [],
   "source": [
    "Dsim196 = pd.read_table('../data/Drosophila_eggs_OD1_5_1xPBS_21-12-2021/D.sim196.txt')"
   ]
  },
  {
   "cell_type": "code",
   "execution_count": 6,
   "id": "b53c920e",
   "metadata": {},
   "outputs": [
    {
     "data": {
      "text/html": [
       "<div>\n",
       "<style scoped>\n",
       "    .dataframe tbody tr th:only-of-type {\n",
       "        vertical-align: middle;\n",
       "    }\n",
       "\n",
       "    .dataframe tbody tr th {\n",
       "        vertical-align: top;\n",
       "    }\n",
       "\n",
       "    .dataframe thead th {\n",
       "        text-align: right;\n",
       "    }\n",
       "</style>\n",
       "<table border=\"1\" class=\"dataframe\">\n",
       "  <thead>\n",
       "    <tr style=\"text-align: right;\">\n",
       "      <th></th>\n",
       "      <th>Id</th>\n",
       "      <th>Time</th>\n",
       "      <th>Plate</th>\n",
       "      <th>Row</th>\n",
       "      <th>Column</th>\n",
       "      <th>Source well</th>\n",
       "      <th>Clog</th>\n",
       "      <th>Sorted status</th>\n",
       "      <th>In Regions</th>\n",
       "      <th>TOF</th>\n",
       "      <th>...</th>\n",
       "      <th>PH BFP</th>\n",
       "      <th>PW BFP</th>\n",
       "      <th>PC BFP</th>\n",
       "      <th>PH GFP</th>\n",
       "      <th>PW GFP</th>\n",
       "      <th>PC GFP</th>\n",
       "      <th>PH dsRED</th>\n",
       "      <th>PW dsRED</th>\n",
       "      <th>PC dsRED</th>\n",
       "      <th>Unnamed: 26</th>\n",
       "    </tr>\n",
       "  </thead>\n",
       "  <tbody>\n",
       "    <tr>\n",
       "      <th>0</th>\n",
       "      <td>1</td>\n",
       "      <td>19645575</td>\n",
       "      <td>NaN</td>\n",
       "      <td>0.0</td>\n",
       "      <td>0.0</td>\n",
       "      <td>NaN</td>\n",
       "      <td>N</td>\n",
       "      <td>0.0</td>\n",
       "      <td>0.0</td>\n",
       "      <td>56.0</td>\n",
       "      <td>...</td>\n",
       "      <td>136.0</td>\n",
       "      <td>56.0</td>\n",
       "      <td>NaN</td>\n",
       "      <td>1376.0</td>\n",
       "      <td>0.0</td>\n",
       "      <td>NaN</td>\n",
       "      <td>80.0</td>\n",
       "      <td>56.0</td>\n",
       "      <td>NaN</td>\n",
       "      <td>NaN</td>\n",
       "    </tr>\n",
       "    <tr>\n",
       "      <th>1</th>\n",
       "      <td>2</td>\n",
       "      <td>19645733</td>\n",
       "      <td>NaN</td>\n",
       "      <td>0.0</td>\n",
       "      <td>0.0</td>\n",
       "      <td>NaN</td>\n",
       "      <td>N</td>\n",
       "      <td>0.0</td>\n",
       "      <td>0.0</td>\n",
       "      <td>176.0</td>\n",
       "      <td>...</td>\n",
       "      <td>200.0</td>\n",
       "      <td>176.0</td>\n",
       "      <td>NaN</td>\n",
       "      <td>2208.0</td>\n",
       "      <td>0.0</td>\n",
       "      <td>NaN</td>\n",
       "      <td>112.0</td>\n",
       "      <td>176.0</td>\n",
       "      <td>NaN</td>\n",
       "      <td>NaN</td>\n",
       "    </tr>\n",
       "    <tr>\n",
       "      <th>2</th>\n",
       "      <td>3</td>\n",
       "      <td>19645750</td>\n",
       "      <td>NaN</td>\n",
       "      <td>0.0</td>\n",
       "      <td>0.0</td>\n",
       "      <td>NaN</td>\n",
       "      <td>N</td>\n",
       "      <td>0.0</td>\n",
       "      <td>0.0</td>\n",
       "      <td>64.0</td>\n",
       "      <td>...</td>\n",
       "      <td>20.0</td>\n",
       "      <td>48.0</td>\n",
       "      <td>NaN</td>\n",
       "      <td>264.0</td>\n",
       "      <td>0.0</td>\n",
       "      <td>NaN</td>\n",
       "      <td>72.0</td>\n",
       "      <td>56.0</td>\n",
       "      <td>NaN</td>\n",
       "      <td>NaN</td>\n",
       "    </tr>\n",
       "    <tr>\n",
       "      <th>3</th>\n",
       "      <td>4</td>\n",
       "      <td>19646012</td>\n",
       "      <td>NaN</td>\n",
       "      <td>0.0</td>\n",
       "      <td>0.0</td>\n",
       "      <td>NaN</td>\n",
       "      <td>N</td>\n",
       "      <td>0.0</td>\n",
       "      <td>100000000.0</td>\n",
       "      <td>296.0</td>\n",
       "      <td>...</td>\n",
       "      <td>5620.0</td>\n",
       "      <td>296.0</td>\n",
       "      <td>NaN</td>\n",
       "      <td>61332.0</td>\n",
       "      <td>296.0</td>\n",
       "      <td>NaN</td>\n",
       "      <td>2696.0</td>\n",
       "      <td>296.0</td>\n",
       "      <td>NaN</td>\n",
       "      <td>NaN</td>\n",
       "    </tr>\n",
       "    <tr>\n",
       "      <th>4</th>\n",
       "      <td>5</td>\n",
       "      <td>19646073</td>\n",
       "      <td>NaN</td>\n",
       "      <td>0.0</td>\n",
       "      <td>0.0</td>\n",
       "      <td>NaN</td>\n",
       "      <td>N</td>\n",
       "      <td>0.0</td>\n",
       "      <td>0.0</td>\n",
       "      <td>56.0</td>\n",
       "      <td>...</td>\n",
       "      <td>128.0</td>\n",
       "      <td>56.0</td>\n",
       "      <td>NaN</td>\n",
       "      <td>1128.0</td>\n",
       "      <td>0.0</td>\n",
       "      <td>NaN</td>\n",
       "      <td>92.0</td>\n",
       "      <td>56.0</td>\n",
       "      <td>NaN</td>\n",
       "      <td>NaN</td>\n",
       "    </tr>\n",
       "  </tbody>\n",
       "</table>\n",
       "<p>5 rows × 27 columns</p>\n",
       "</div>"
      ],
      "text/plain": [
       "  Id      Time  Plate  Row  Column  Source well Clog  Sorted status  \\\n",
       "0  1  19645575    NaN  0.0     0.0          NaN    N            0.0   \n",
       "1  2  19645733    NaN  0.0     0.0          NaN    N            0.0   \n",
       "2  3  19645750    NaN  0.0     0.0          NaN    N            0.0   \n",
       "3  4  19646012    NaN  0.0     0.0          NaN    N            0.0   \n",
       "4  5  19646073    NaN  0.0     0.0          NaN    N            0.0   \n",
       "\n",
       "    In Regions    TOF  ...  PH BFP  PW BFP  PC BFP   PH GFP  PW GFP  PC GFP  \\\n",
       "0          0.0   56.0  ...   136.0    56.0     NaN   1376.0     0.0     NaN   \n",
       "1          0.0  176.0  ...   200.0   176.0     NaN   2208.0     0.0     NaN   \n",
       "2          0.0   64.0  ...    20.0    48.0     NaN    264.0     0.0     NaN   \n",
       "3  100000000.0  296.0  ...  5620.0   296.0     NaN  61332.0   296.0     NaN   \n",
       "4          0.0   56.0  ...   128.0    56.0     NaN   1128.0     0.0     NaN   \n",
       "\n",
       "   PH dsRED  PW dsRED  PC dsRED  Unnamed: 26  \n",
       "0      80.0      56.0       NaN          NaN  \n",
       "1     112.0     176.0       NaN          NaN  \n",
       "2      72.0      56.0       NaN          NaN  \n",
       "3    2696.0     296.0       NaN          NaN  \n",
       "4      92.0      56.0       NaN          NaN  \n",
       "\n",
       "[5 rows x 27 columns]"
      ]
     },
     "execution_count": 6,
     "metadata": {},
     "output_type": "execute_result"
    }
   ],
   "source": [
    "Dsim196.head()"
   ]
  },
  {
   "cell_type": "markdown",
   "id": "3a25e29b",
   "metadata": {},
   "source": [
    "### We remove rows at the end of the file about specifications of each run that are not needed."
   ]
  },
  {
   "cell_type": "code",
   "execution_count": 7,
   "id": "d20b5591",
   "metadata": {},
   "outputs": [],
   "source": [
    "Dsim196=Dsim196.drop(Dsim196.index[18258:])"
   ]
  },
  {
   "cell_type": "markdown",
   "id": "c5645bdf",
   "metadata": {},
   "source": [
    "### 4.1.2 The second file contains the optical density data\n",
    "\n",
    "### This file contains columns that correspond to each object in the summary file. Each object has 4 corresponding columns. We only need the first one which corresponds to Extinction, the other 3 correspond to 3 fluorescence laser."
   ]
  },
  {
   "cell_type": "code",
   "execution_count": 8,
   "id": "35c65c33",
   "metadata": {},
   "outputs": [],
   "source": [
    "Dsim196_opt = pd.read_table('../data/Drosophila_eggs_OD1_5_1xPBS_21-12-2021/D.sim196_prf.txt')"
   ]
  },
  {
   "cell_type": "markdown",
   "id": "cfcc2309",
   "metadata": {},
   "source": [
    "### We remove the columns that are not needed"
   ]
  },
  {
   "cell_type": "code",
   "execution_count": 9,
   "id": "8f426085",
   "metadata": {},
   "outputs": [],
   "source": [
    "Dsim196.drop(['Plate', 'Row', 'Column', 'Source well', 'Clog','PC Extinction',\n",
    "                  'PC BFP','PC GFP','PC dsRED', 'Unnamed: 26'], inplace=True, axis=1)"
   ]
  },
  {
   "cell_type": "markdown",
   "id": "87d0c74e",
   "metadata": {},
   "source": [
    "### 4.2 Compute size using TOF\n",
    "\n",
    "### Then using function 'compute_append_size' we convert TOF to size (μm). "
   ]
  },
  {
   "cell_type": "code",
   "execution_count": 10,
   "id": "4b44d9e4",
   "metadata": {},
   "outputs": [],
   "source": [
    "Dsim196_sz = compute_append_size(Dsim196)"
   ]
  },
  {
   "cell_type": "code",
   "execution_count": 11,
   "id": "2b87bead",
   "metadata": {},
   "outputs": [
    {
     "data": {
      "text/html": [
       "<div>\n",
       "<style scoped>\n",
       "    .dataframe tbody tr th:only-of-type {\n",
       "        vertical-align: middle;\n",
       "    }\n",
       "\n",
       "    .dataframe tbody tr th {\n",
       "        vertical-align: top;\n",
       "    }\n",
       "\n",
       "    .dataframe thead th {\n",
       "        text-align: right;\n",
       "    }\n",
       "</style>\n",
       "<table border=\"1\" class=\"dataframe\">\n",
       "  <thead>\n",
       "    <tr style=\"text-align: right;\">\n",
       "      <th></th>\n",
       "      <th>Id</th>\n",
       "      <th>Time</th>\n",
       "      <th>Sorted status</th>\n",
       "      <th>In Regions</th>\n",
       "      <th>TOF</th>\n",
       "      <th>Extinction</th>\n",
       "      <th>BFP</th>\n",
       "      <th>GFP</th>\n",
       "      <th>dsRED</th>\n",
       "      <th>PH Extinction</th>\n",
       "      <th>PW Extinction</th>\n",
       "      <th>PH BFP</th>\n",
       "      <th>PW BFP</th>\n",
       "      <th>PH GFP</th>\n",
       "      <th>PW GFP</th>\n",
       "      <th>PH dsRED</th>\n",
       "      <th>PW dsRED</th>\n",
       "      <th>Size</th>\n",
       "    </tr>\n",
       "  </thead>\n",
       "  <tbody>\n",
       "    <tr>\n",
       "      <th>0</th>\n",
       "      <td>1</td>\n",
       "      <td>19645575</td>\n",
       "      <td>0.0</td>\n",
       "      <td>0.0</td>\n",
       "      <td>56.0</td>\n",
       "      <td>2.72</td>\n",
       "      <td>0.07</td>\n",
       "      <td>0.62</td>\n",
       "      <td>0.04</td>\n",
       "      <td>4220.0</td>\n",
       "      <td>56.0</td>\n",
       "      <td>136.0</td>\n",
       "      <td>56.0</td>\n",
       "      <td>1376.0</td>\n",
       "      <td>0.0</td>\n",
       "      <td>80.0</td>\n",
       "      <td>56.0</td>\n",
       "      <td>92.209428</td>\n",
       "    </tr>\n",
       "    <tr>\n",
       "      <th>1</th>\n",
       "      <td>2</td>\n",
       "      <td>19645733</td>\n",
       "      <td>0.0</td>\n",
       "      <td>0.0</td>\n",
       "      <td>176.0</td>\n",
       "      <td>11.20</td>\n",
       "      <td>0.26</td>\n",
       "      <td>2.68</td>\n",
       "      <td>0.16</td>\n",
       "      <td>5836.0</td>\n",
       "      <td>176.0</td>\n",
       "      <td>200.0</td>\n",
       "      <td>176.0</td>\n",
       "      <td>2208.0</td>\n",
       "      <td>0.0</td>\n",
       "      <td>112.0</td>\n",
       "      <td>176.0</td>\n",
       "      <td>112.409528</td>\n",
       "    </tr>\n",
       "    <tr>\n",
       "      <th>2</th>\n",
       "      <td>3</td>\n",
       "      <td>19645750</td>\n",
       "      <td>0.0</td>\n",
       "      <td>0.0</td>\n",
       "      <td>64.0</td>\n",
       "      <td>2.84</td>\n",
       "      <td>0.01</td>\n",
       "      <td>0.05</td>\n",
       "      <td>0.02</td>\n",
       "      <td>3684.0</td>\n",
       "      <td>64.0</td>\n",
       "      <td>20.0</td>\n",
       "      <td>48.0</td>\n",
       "      <td>264.0</td>\n",
       "      <td>0.0</td>\n",
       "      <td>72.0</td>\n",
       "      <td>56.0</td>\n",
       "      <td>93.556101</td>\n",
       "    </tr>\n",
       "    <tr>\n",
       "      <th>3</th>\n",
       "      <td>4</td>\n",
       "      <td>19646012</td>\n",
       "      <td>0.0</td>\n",
       "      <td>100000000.0</td>\n",
       "      <td>296.0</td>\n",
       "      <td>30.70</td>\n",
       "      <td>10.60</td>\n",
       "      <td>139.00</td>\n",
       "      <td>6.50</td>\n",
       "      <td>11052.0</td>\n",
       "      <td>296.0</td>\n",
       "      <td>5620.0</td>\n",
       "      <td>296.0</td>\n",
       "      <td>61332.0</td>\n",
       "      <td>296.0</td>\n",
       "      <td>2696.0</td>\n",
       "      <td>296.0</td>\n",
       "      <td>132.609629</td>\n",
       "    </tr>\n",
       "    <tr>\n",
       "      <th>4</th>\n",
       "      <td>5</td>\n",
       "      <td>19646073</td>\n",
       "      <td>0.0</td>\n",
       "      <td>0.0</td>\n",
       "      <td>56.0</td>\n",
       "      <td>3.12</td>\n",
       "      <td>0.07</td>\n",
       "      <td>0.68</td>\n",
       "      <td>0.04</td>\n",
       "      <td>5048.0</td>\n",
       "      <td>56.0</td>\n",
       "      <td>128.0</td>\n",
       "      <td>56.0</td>\n",
       "      <td>1128.0</td>\n",
       "      <td>0.0</td>\n",
       "      <td>92.0</td>\n",
       "      <td>56.0</td>\n",
       "      <td>92.209428</td>\n",
       "    </tr>\n",
       "  </tbody>\n",
       "</table>\n",
       "</div>"
      ],
      "text/plain": [
       "  Id      Time  Sorted status   In Regions    TOF  Extinction    BFP     GFP  \\\n",
       "0  1  19645575            0.0          0.0   56.0        2.72   0.07    0.62   \n",
       "1  2  19645733            0.0          0.0  176.0       11.20   0.26    2.68   \n",
       "2  3  19645750            0.0          0.0   64.0        2.84   0.01    0.05   \n",
       "3  4  19646012            0.0  100000000.0  296.0       30.70  10.60  139.00   \n",
       "4  5  19646073            0.0          0.0   56.0        3.12   0.07    0.68   \n",
       "\n",
       "   dsRED  PH Extinction  PW Extinction  PH BFP  PW BFP   PH GFP  PW GFP  \\\n",
       "0   0.04         4220.0           56.0   136.0    56.0   1376.0     0.0   \n",
       "1   0.16         5836.0          176.0   200.0   176.0   2208.0     0.0   \n",
       "2   0.02         3684.0           64.0    20.0    48.0    264.0     0.0   \n",
       "3   6.50        11052.0          296.0  5620.0   296.0  61332.0   296.0   \n",
       "4   0.04         5048.0           56.0   128.0    56.0   1128.0     0.0   \n",
       "\n",
       "   PH dsRED  PW dsRED        Size  \n",
       "0      80.0      56.0   92.209428  \n",
       "1     112.0     176.0  112.409528  \n",
       "2      72.0      56.0   93.556101  \n",
       "3    2696.0     296.0  132.609629  \n",
       "4      92.0      56.0   92.209428  "
      ]
     },
     "execution_count": 11,
     "metadata": {},
     "output_type": "execute_result"
    }
   ],
   "source": [
    "Dsim196_sz.head()"
   ]
  },
  {
   "cell_type": "markdown",
   "id": "946bc921",
   "metadata": {},
   "source": [
    "### 4.3 Extract features from the optical density data.\n",
    "\n",
    "### We use function **extract_optical_density** to extract features from the optical density data.\n",
    "\n",
    "### This function finds the optical density data corresponding to each objects using 'Id'.  \n",
    "\n",
    "### First, we remove zero values trailing the optical density for each object. Then, if the length of remaining data is 11 or equal (this value is arbitrary) we set ellipticalness index value and width to length ratio to 0. For the remaining objects with data length more than 11, we compute L (which is the length of recorded data points),  W (which is the difference between the minimum and maximum recorded value, this corresponds to the highest recorded value), EllipArea (Which is the area of an ellipse divided by 2 since the optical density of each object is half of the ellipse). We then fit a polynomial function with 8 order to the optical profile of each object and compute the area under this fitted curve. EI is computed as the ratio of the area under the fitted curve to the optical density data to the area of the nearest ellipse.\n"
   ]
  },
  {
   "cell_type": "code",
   "execution_count": 12,
   "id": "77e0bfd5",
   "metadata": {},
   "outputs": [],
   "source": [
    "Dsim196_sz['EI'],Dsim196_sz['W'], Dsim196_sz['L'], Dsim196_sz['W/L'] = extract_optical_density(Dsim196_sz, Dsim196_opt)\n"
   ]
  },
  {
   "cell_type": "markdown",
   "id": "39c3f8cc",
   "metadata": {},
   "source": [
    "### 4.4 Filter debris particles\n",
    " \n",
    "### The initial filtering step is to remove very small objects which are mostly dust and yeast particles (less than 200 μm) using function 'filter_dust_eggsize'\n",
    " \n",
    "### First we identify the best bandwidth for estimating the kernel density distribution by scanning 20 bandwidth and ultimately choosing the one with highest score. \n",
    "\n",
    "### Second, we identify the threshold for separating debris and eggs. For this, we first fit KDE on dataset using the best bandwidth identified in the previous step. Then we find all the points where the density decreases (this should correspond to valleys/pits in the curve) and choose the first pit as the threshold for removing the debris. A plot will be generated at this point for visual inspection of the chosen border. \n",
    " \n",
    "### In some cases the threshold doesn't seem to properly separating dust from eggs, since there will be more filtering steps ahead, we can ignore it for now. At the end of all filtering steps we will plot the size distribution and the chosen borders again. If the final chosen border doesn't seem realistic visually, further investigation is required. \n",
    "\n",
    "### Third, we filter the dataset using the identified border in the previous step to remove the debris. \n",
    "\n",
    "### Forth, we compute the best bandwidth for estimating the kernel density distribution for the filtered dataset."
   ]
  },
  {
   "cell_type": "code",
   "execution_count": 13,
   "id": "1af3f0e8",
   "metadata": {},
   "outputs": [
    {
     "data": {
      "image/png": "[encoded data removed]",
      "text/plain": [
       "<Figure size 432x288 with 1 Axes>"
      ]
     },
     "metadata": {
      "needs_background": "light"
     },
     "output_type": "display_data"
    }
   ],
   "source": [
    "Dsim196_flt, Dsim196_flt_bw, Dsim196_bor, Dsim196_bw = filter_dust_eggsize(Dsim196_sz)\n",
    "#plt.savefig('../plots/final_plots/size_dist_filter_Dsim196_border1.jpeg', dpi=100,format='jpeg', bbox_inches = 'tight')\n",
    "#plt.savefig('../plots/final_plots/size_dist_filter_Dsim196_border1.svg', dpi=100,format='svg', bbox_inches = 'tight')\n"
   ]
  },
  {
   "cell_type": "markdown",
   "id": "6c8490ff",
   "metadata": {},
   "source": [
    "#### The blue line shows the chosen border to remove egg debris."
   ]
  },
  {
   "cell_type": "markdown",
   "id": "75e60aa0",
   "metadata": {},
   "source": [
    "### 4.4 Filter misaligned eggs\n",
    "\n",
    "### Let's have a look at the distribution of EI, W, L and W/L"
   ]
  },
  {
   "cell_type": "code",
   "execution_count": 14,
   "id": "b2cd8bf1",
   "metadata": {},
   "outputs": [
    {
     "data": {
      "text/plain": [
       "(array([1315., 3709., 1407.,  583.,  391.,  234.,  112.,   44.,   16.,\n",
       "           5.]),\n",
       " array([  9.47368421,  81.1495716 , 152.825459  , 224.50134639,\n",
       "        296.17723378, 367.85312118, 439.52900857, 511.20489596,\n",
       "        582.88078335, 654.55667075, 726.23255814]),\n",
       " <BarContainer object of 10 artists>)"
      ]
     },
     "execution_count": 14,
     "metadata": {},
     "output_type": "execute_result"
    },
    {
     "data": {
      "image/png": "[encoded data removed]",
      "text/plain": [
       "<Figure size 1600x500 with 4 Axes>"
      ]
     },
     "metadata": {},
     "output_type": "display_data"
    }
   ],
   "source": [
    "fig , ax = plt.subplots(nrows=1, ncols=4,sharex=True, sharey=True,figsize=(16,5),dpi=100, facecolor='w', edgecolor='k')    \n",
    "ax=plt.subplot(1,4,1)\n",
    "plt.title('Distribution of EI')\n",
    "plt.hist(Dsim196_flt['EI'])\n",
    "ax=plt.subplot(1,4,2)\n",
    "plt.title('Distribution of W')\n",
    "plt.hist(Dsim196_flt['W'])\n",
    "ax=plt.subplot(1,4,3)\n",
    "plt.title('Distribution of L')\n",
    "plt.hist(Dsim196_flt['L'])\n",
    "ax=plt.subplot(1,4,4)\n",
    "plt.title('Distribution of W/L')\n",
    "plt.hist(Dsim196_flt['W/L'])\n"
   ]
  },
  {
   "cell_type": "markdown",
   "id": "cb518a9d",
   "metadata": {},
   "source": [
    "### We filter for the objects with EI and W/L outside median +/- sd/2"
   ]
  },
  {
   "cell_type": "code",
   "execution_count": 15,
   "id": "835dfcaa",
   "metadata": {},
   "outputs": [],
   "source": [
    "med_EI=np.median(Dsim196_flt['EI'])\n",
    "std_EI=np.std(Dsim196_flt['EI'])\n",
    "\n",
    "med_WL=np.median(Dsim196_flt['W/L'])\n",
    "std_WL=np.std(Dsim196_flt['W/L']) \n"
   ]
  },
  {
   "cell_type": "code",
   "execution_count": 16,
   "id": "76a6deae",
   "metadata": {},
   "outputs": [],
   "source": [
    "Dsim196_flt2 = Dsim196_flt[(Dsim196_flt['EI'] >= med_EI-(std_EI/2)) & (Dsim196_flt['EI'] <= med_EI+(std_EI/2))]    \n",
    "Dsim196_flt3 = Dsim196_flt2[(Dsim196_flt2['W/L'] >= med_WL-(std_WL/2)) & (Dsim196_flt2['W/L'] <= med_WL+(std_WL/2))]\n"
   ]
  },
  {
   "cell_type": "markdown",
   "id": "82f5a5a1",
   "metadata": {},
   "source": [
    "### Check the distribution of EI, W,L and W/L after filtering"
   ]
  },
  {
   "cell_type": "code",
   "execution_count": 17,
   "id": "40ca75de",
   "metadata": {},
   "outputs": [
    {
     "data": {
      "text/plain": [
       "(array([196., 194., 232., 228., 271., 277., 232., 122.,  71.,  61.]),\n",
       " array([ 83.27659574,  93.06833916, 102.86008257, 112.65182598,\n",
       "        122.44356939, 132.2353128 , 142.02705621, 151.81879962,\n",
       "        161.61054303, 171.40228644, 181.19402985]),\n",
       " <BarContainer object of 10 artists>)"
      ]
     },
     "execution_count": 17,
     "metadata": {},
     "output_type": "execute_result"
    },
    {
     "data": {
      "image/png": "[encoded data removed]",
      "text/plain": [
       "<Figure size 1600x500 with 4 Axes>"
      ]
     },
     "metadata": {},
     "output_type": "display_data"
    }
   ],
   "source": [
    "fig , ax = plt.subplots(nrows=1, ncols=4,sharex=True, sharey=True,figsize=(16,5),dpi=100, facecolor='w', edgecolor='k')    \n",
    "ax=plt.subplot(1,4,1)\n",
    "plt.title('Distribution of EI')\n",
    "plt.hist(Dsim196_flt3['EI'])\n",
    "ax=plt.subplot(1,4,2)\n",
    "plt.title('Distribution of W')\n",
    "plt.hist(Dsim196_flt3['W'])\n",
    "ax=plt.subplot(1,4,3)\n",
    "plt.title('Distribution of L')\n",
    "plt.hist(Dsim196_flt3['L'])\n",
    "ax=plt.subplot(1,4,4)\n",
    "plt.title('Distribution of W/L')\n",
    "plt.hist(Dsim196_flt3['W/L'])\n"
   ]
  },
  {
   "cell_type": "markdown",
   "id": "b3a7f8db",
   "metadata": {},
   "source": [
    "### Check the size distribution of filtered objects"
   ]
  },
  {
   "cell_type": "code",
   "execution_count": 18,
   "id": "9e11100d",
   "metadata": {},
   "outputs": [
    {
     "data": {
      "text/plain": [
       "(array([234.,  81., 910., 642.,  12.,   1.,   3.,   0.,   0.,   1.]),\n",
       " array([195.90327783, 274.01033374, 352.11738965, 430.22444556,\n",
       "        508.33150147, 586.43855739, 664.5456133 , 742.65266921,\n",
       "        820.75972512, 898.86678103, 976.97383694]),\n",
       " <BarContainer object of 10 artists>)"
      ]
     },
     "execution_count": 18,
     "metadata": {},
     "output_type": "execute_result"
    },
    {
     "data": {
      "image/png": "[encoded data removed]",
      "text/plain": [
       "<Figure size 432x288 with 1 Axes>"
      ]
     },
     "metadata": {
      "needs_background": "light"
     },
     "output_type": "display_data"
    }
   ],
   "source": [
    "plt.hist(Dsim196_flt3['Size'])"
   ]
  },
  {
   "cell_type": "markdown",
   "id": "d8065176",
   "metadata": {},
   "source": [
    "### Notice that there are still some small objects, thus we will do a second size filtering"
   ]
  },
  {
   "cell_type": "code",
   "execution_count": 19,
   "id": "ba187156",
   "metadata": {},
   "outputs": [
    {
     "data": {
      "image/png": "[encoded data removed]",
      "text/plain": [
       "<Figure size 432x288 with 1 Axes>"
      ]
     },
     "metadata": {
      "needs_background": "light"
     },
     "output_type": "display_data"
    }
   ],
   "source": [
    "Dsim196_flt4, Dsim196_flt_bw, Dsim196_bor, Dsim196_bw = filter_dust_eggsize(Dsim196_flt3)\n",
    "#plt.savefig('../plots/final_plots/size_dist_filter_Dsim196_border2.jpeg', dpi=100,format='jpeg', bbox_inches = 'tight')\n",
    "#plt.savefig('../plots/final_plots/size_dist_filter_Dsim196_border2.svg', dpi=100,format='svg', bbox_inches = 'tight')\n",
    "\n"
   ]
  },
  {
   "cell_type": "markdown",
   "id": "edbc9fee",
   "metadata": {},
   "source": [
    "### To visualize the effect of each filtering step, we plot the size distribution after both filtering steps"
   ]
  },
  {
   "cell_type": "code",
   "execution_count": 37,
   "id": "0630fad2",
   "metadata": {},
   "outputs": [
    {
     "data": {
      "image/png": "[encoded data removed]",
      "text/plain": [
       "<Figure size 432x288 with 1 Axes>"
      ]
     },
     "metadata": {
      "needs_background": "light"
     },
     "output_type": "display_data"
    }
   ],
   "source": [
    "all_eg_data_subset = [Dsim196_sz, Dsim196_flt, Dsim196_flt4]\n",
    "colors_subset = ['#1b9e77','#7570b3','#d95f02'] \n",
    "labels_subset = ['No filtering','Debris filtering','Misalign filtering']\n",
    "\n",
    "all_bw = [Dsim196_flt_bw] * 3\n",
    "\n",
    "fig, ax = plt.subplots(sharex=True, sharey=True)\n",
    "for ind,eg_data in enumerate(all_eg_data_subset):\n",
    "    #reshape the numpy array of egg size data\n",
    "    egre = np.array(eg_data['Size'])[:, np.newaxis]\n",
    "    #generate some data within the range of egg size\n",
    "    egre_plot = np.linspace(0, 1600, 1000)[:, np.newaxis]\n",
    "    #Fit the Kernel Density model on the data.\n",
    "    kde = KernelDensity(kernel='gaussian', bandwidth=np.mean(all_bw)).fit(egre)\n",
    "    #Compute the log-likelihood of each sample under the model.\n",
    "    log_dens = kde.score_samples(egre_plot)             \n",
    "    ax.plot(egre_plot[:, 0], np.exp(log_dens), color=colors_subset[ind], label=labels_subset[ind], linewidth = 3)\n",
    "    #plot the border between the two peaks\n",
    "plt.xlabel('Size')\n",
    "plt.ylabel('Density') \n",
    "plt.legend(loc='upper center', bbox_to_anchor=(0.5, 1.15),ncol=3, fancybox=False, shadow=False)  \n",
    "plt.xlim(0,800)\n",
    "plt.savefig('../plots/final_plots/size_dist_filter_Dsim196_rev.jpeg', dpi=100,format='jpeg', bbox_inches = 'tight')\n",
    "plt.savefig('../plots/final_plots/size_dist_filter_Dsim196_rev.svg', dpi=100,format='svg', bbox_inches = 'tight')\n"
   ]
  },
  {
   "cell_type": "markdown",
   "id": "bb94d5cc",
   "metadata": {},
   "source": [
    "### Seeing the plot, it is clear that the filtering steps remove the small objects and those with incorrect alignment, and not large objects. "
   ]
  }
 ],
 "metadata": {
  "kernelspec": {
   "display_name": "Python 3",
   "language": "python",
   "name": "python3"
  },
  "language_info": {
   "codemirror_mode": {
    "name": "ipython",
    "version": 3
   },
   "file_extension": ".py",
   "mimetype": "text/x-python",
   "name": "python",
   "nbconvert_exporter": "python",
   "pygments_lexer": "ipython3",
   "version": "3.8.8"
  }
 },
 "nbformat": 4,
 "nbformat_minor": 5
}
