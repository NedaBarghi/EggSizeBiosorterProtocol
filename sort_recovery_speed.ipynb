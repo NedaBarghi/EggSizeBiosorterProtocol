{
 "cells": [
  {
   "cell_type": "markdown",
   "id": "ffaf8181",
   "metadata": {},
   "source": [
    "# 1. Import all needed libraries"
   ]
  },
  {
   "cell_type": "code",
   "execution_count": 11,
   "id": "2e362861",
   "metadata": {},
   "outputs": [],
   "source": [
    "%matplotlib inline\n",
    "\n",
    "import pandas as pd \n",
    "import matplotlib.pyplot as plt \n",
    "import os\n",
    "import numpy as np\n",
    "from scipy.stats.stats import spearmanr\n",
    "from scipy.stats.stats import pearsonr"
   ]
  },
  {
   "cell_type": "markdown",
   "id": "1bce9477",
   "metadata": {},
   "source": [
    "# 2. Change the working directory"
   ]
  },
  {
   "cell_type": "code",
   "execution_count": 12,
   "id": "b24ca2b9",
   "metadata": {},
   "outputs": [
    {
     "data": {
      "text/plain": [
       "'/Users/neda/Dropbox (PopGen)/tmp/egg_size_method_paper/scripts'"
      ]
     },
     "execution_count": 12,
     "metadata": {},
     "output_type": "execute_result"
    }
   ],
   "source": [
    "os.chdir('/Users/neda/Dropbox (PopGen)/tmp/egg_size_method_paper/scripts/')\n",
    "os.getcwd()"
   ]
  },
  {
   "cell_type": "markdown",
   "id": "92ce81b5",
   "metadata": {},
   "source": [
    "# 3. Functions"
   ]
  },
  {
   "cell_type": "code",
   "execution_count": 13,
   "id": "fde9fe8f",
   "metadata": {},
   "outputs": [],
   "source": [
    "#this function removes the extra columns and converts time to integer\n",
    "def clean_data(dataset):\n",
    "    dataset.drop(['Id', 'Plate', 'Row', 'Column', 'Source well', 'Clog','BFP', 'GFP',\n",
    "           'dsRED', 'PH Extinction', 'PW Extinction', 'PC Extinction', 'PH BFP',\n",
    "           'PW BFP', 'PC BFP', 'PH GFP', 'PW GFP', 'PC GFP', 'PH dsRED',\n",
    "           'PW dsRED', 'PC dsRED', 'Unnamed: 26'], inplace=True, axis=1)    \n",
    "    dataset = dataset.dropna()\n",
    "    dataset['Time'] = dataset['Time'].apply(pd.to_numeric)    \n",
    "    return dataset\n",
    "\n",
    "#this function computes percentage sort recovery which is the percentage of objects that were sorted and dispensed\n",
    "#as a fraction of all the objects fulfilling sorting criteria, i.e. size\n",
    "def compute_sort_recovery(data):\n",
    "    #make a dataset of sorted objects\n",
    "    data_srt = data.loc[data['Sorted status'] == 6]\n",
    "    #determine the region of sorted objects\n",
    "    region = list(set(data_srt['In Regions']))\n",
    "    #compute the number of objects in this region\n",
    "    num_egg_gate = len(data[data['In Regions'].isin(region)])\n",
    "    #compute the number of sorted objects\n",
    "    num_egg_sort = len(data_srt)\n",
    "    #compute sort recovery percentage\n",
    "    data_srtrec = num_egg_sort/num_egg_gate*100  \n",
    "    #compute sorting time, the time is in millisecond so it will be converted to minute\n",
    "    srt_time= (max(data['Time'])-min(data['Time']))/60000\n",
    "    srt_speed = num_egg_sort/srt_time\n",
    "    measure_speed = num_egg_gate/srt_time\n",
    "    return(num_egg_sort, num_egg_gate, data_srtrec, srt_time, srt_speed, measure_speed)\n",
    "\n",
    "#this function sets the color of fliers for boxplots\n",
    "def set_color_flier(col):\n",
    "    flierprops = dict( marker = '.',color = col, markerfacecolor = col, markeredgecolor = col, markersize =3)   \n",
    "    return flierprops\n",
    "\n",
    "#this function sets the color of boxes and whiskers for boxplots\n",
    "def set_color_box(col):    \n",
    "    colors=[ col] * 100\n",
    "    fullset_color_box = colors\n",
    "    fullset_color_whisker = [ col] * 80\n",
    "    for patch, col in zip(box['boxes'], fullset_color_box):\n",
    "        patch.set_facecolor(col)\n",
    "        patch.set_edgecolor(col)\n",
    "    for patch, col in zip(box['whiskers'], fullset_color_whisker):\n",
    "        patch.set_color(col)\n",
    "        patch.set_linestyle('-')\n"
   ]
  },
  {
   "cell_type": "markdown",
   "id": "84e78ac6",
   "metadata": {},
   "source": [
    "# 4. Computation of sort recovery"
   ]
  },
  {
   "cell_type": "markdown",
   "id": "f4c3066d",
   "metadata": {},
   "source": [
    "## 4.1 Input file\n",
    "\n",
    "### The biosorter summary files from a total of 28 datasets are used. \n"
   ]
  },
  {
   "cell_type": "code",
   "execution_count": 14,
   "id": "b7471202",
   "metadata": {},
   "outputs": [],
   "source": [
    "#Nov 25 data\n",
    "C1_nov25 = pd.read_table('../data/Drosophila eggs_OD1_5_1xPBS_25-11-2022/C1_allgates_sc65.txt')\n",
    "C2_nov25 = pd.read_table('../data/Drosophila eggs_OD1_5_1xPBS_25-11-2022/C2_allgates_sc65.txt')\n",
    "C3_nov25 = pd.read_table('../data/Drosophila eggs_OD1_5_1xPBS_25-11-2022/C3_allgates_sc65.txt')\n",
    "\n",
    "L1_nov25_1 = pd.read_table('../data/Drosophila eggs_OD1_5_1xPBS_25-11-2022/L1_R12.3R12.4_1_sc65.txt')\n",
    "L1_nov25_2 = pd.read_table('../data/Drosophila eggs_OD1_5_1xPBS_25-11-2022/L1_R12.3R12.4_2_sc65.txt')\n",
    "L1_nov25_3 = pd.read_table('../data/Drosophila eggs_OD1_5_1xPBS_25-11-2022/L1_R13.1R13.2R13.3R13.4_sc65.txt')\n",
    "L2_nov25_1 = pd.read_table('../data/Drosophila eggs_OD1_5_1xPBS_25-11-2022/L2_R12.3R12.4_sc65.txt')\n",
    "L2_nov25_2 = pd.read_table('../data/Drosophila eggs_OD1_5_1xPBS_25-11-2022/L2_R12.4_R13.1R13.2R13.3R13.4sc65.txt')\n",
    "L3_nov25_1 = pd.read_table('../data/Drosophila eggs_OD1_5_1xPBS_25-11-2022/L3_R12._r13.1r13.2r13.3r13.44sc65.txt')\n",
    "L3_nov25_2 = pd.read_table('../data/Drosophila eggs_OD1_5_1xPBS_25-11-2022/L3_R12.3_R12.4sc65.txt')\n",
    "\n",
    "#Nov 7 data\n",
    "C1_Nov7 = pd.read_table('../data/Drosophila eggs_OD1_5_1xPBS_07-11-2022/C1_allgates.txt')\n",
    "C2_Nov7 = pd.read_table('../data/Drosophila eggs_OD1_5_1xPBS_07-11-2022/C2_allgates.txt')\n",
    "C3_Nov7 = pd.read_table('../data/Drosophila eggs_OD1_5_1xPBS_07-11-2022/C3_allgates.txt')\n",
    "\n",
    "L1_Nov7 = pd.read_table('../data/Drosophila eggs_OD1_5_1xPBS_07-11-2022/L1_R12.3.4_R13.1.2.3.4.txt')\n",
    "L2_Nov7 = pd.read_table('../data/Drosophila eggs_OD1_5_1xPBS_07-11-2022/L2_R12.1.2.3.4_R13.1.2.3.4.txt')\n",
    "L2_Nov7_2 = pd.read_table('../data/Drosophila eggs_OD1_5_1xPBS_07-11-2022/L2_R12.3.4_R13.1.2.3.4.txt')\n",
    "\n",
    "#Sep 15 data\n",
    "C1_Sep15 = pd.read_table('../data/Drosophila eggs_OD1_5_1xPBS_15-09-2022/C1_R30.txt')\n",
    "C2_Sep15 = pd.read_table('../data/Drosophila eggs_OD1_5_1xPBS_15-09-2022/C2_R30.txt')\n",
    "C3_Sep15 = pd.read_table('../data/Drosophila eggs_OD1_5_1xPBS_15-09-2022/C3_R30.txt')\n",
    "\n",
    "#July 25 data\n",
    "C1_July25 = pd.read_table('../data/Drosophila_eggs_OD1_5_1xPBS_25-07-2022/C1_R19.txt')\n",
    "C2_July25 = pd.read_table('../data/Drosophila_eggs_OD1_5_1xPBS_25-07-2022/C2_R19.txt')\n",
    "C3_July25 = pd.read_table('../data/Drosophila_eggs_OD1_5_1xPBS_25-07-2022/C3_R19.txt')\n",
    "\n",
    "L1_July25_1 = pd.read_table('../data/Drosophila_eggs_OD1_5_1xPBS_25-07-2022/L1_R12.txt')\n",
    "L1_July25_2 = pd.read_table('../data/Drosophila_eggs_OD1_5_1xPBS_25-07-2022/L1_R13.txt')\n",
    "L2_July25_1 = pd.read_table('../data/Drosophila_eggs_OD1_5_1xPBS_25-07-2022/L2_R12.txt')\n",
    "L2_July25_2 = pd.read_table('../data/Drosophila_eggs_OD1_5_1xPBS_25-07-2022/L2_R13.txt')\n",
    "L3_July25_1 = pd.read_table('../data/Drosophila_eggs_OD1_5_1xPBS_25-07-2022/L3_R12.txt')\n",
    "L3_July25_2 = pd.read_table('../data/Drosophila_eggs_OD1_5_1xPBS_25-07-2022/L3_R13.txt')\n"
   ]
  },
  {
   "cell_type": "markdown",
   "id": "a03e3a4c",
   "metadata": {},
   "source": [
    "### We remove the extra columns in each dataset"
   ]
  },
  {
   "cell_type": "code",
   "execution_count": 15,
   "id": "65e08252",
   "metadata": {},
   "outputs": [
    {
     "name": "stderr",
     "output_type": "stream",
     "text": [
      "<ipython-input-13-5e5e57c10edb>:8: SettingWithCopyWarning: \n",
      "A value is trying to be set on a copy of a slice from a DataFrame.\n",
      "Try using .loc[row_indexer,col_indexer] = value instead\n",
      "\n",
      "See the caveats in the documentation: https://pandas.pydata.org/pandas-docs/stable/user_guide/indexing.html#returning-a-view-versus-a-copy\n",
      "  dataset['Time'] = dataset['Time'].apply(pd.to_numeric)\n",
      "<ipython-input-13-5e5e57c10edb>:8: SettingWithCopyWarning: \n",
      "A value is trying to be set on a copy of a slice from a DataFrame.\n",
      "Try using .loc[row_indexer,col_indexer] = value instead\n",
      "\n",
      "See the caveats in the documentation: https://pandas.pydata.org/pandas-docs/stable/user_guide/indexing.html#returning-a-view-versus-a-copy\n",
      "  dataset['Time'] = dataset['Time'].apply(pd.to_numeric)\n",
      "<ipython-input-13-5e5e57c10edb>:8: SettingWithCopyWarning: \n",
      "A value is trying to be set on a copy of a slice from a DataFrame.\n",
      "Try using .loc[row_indexer,col_indexer] = value instead\n",
      "\n",
      "See the caveats in the documentation: https://pandas.pydata.org/pandas-docs/stable/user_guide/indexing.html#returning-a-view-versus-a-copy\n",
      "  dataset['Time'] = dataset['Time'].apply(pd.to_numeric)\n",
      "<ipython-input-13-5e5e57c10edb>:8: SettingWithCopyWarning: \n",
      "A value is trying to be set on a copy of a slice from a DataFrame.\n",
      "Try using .loc[row_indexer,col_indexer] = value instead\n",
      "\n",
      "See the caveats in the documentation: https://pandas.pydata.org/pandas-docs/stable/user_guide/indexing.html#returning-a-view-versus-a-copy\n",
      "  dataset['Time'] = dataset['Time'].apply(pd.to_numeric)\n",
      "<ipython-input-13-5e5e57c10edb>:8: SettingWithCopyWarning: \n",
      "A value is trying to be set on a copy of a slice from a DataFrame.\n",
      "Try using .loc[row_indexer,col_indexer] = value instead\n",
      "\n",
      "See the caveats in the documentation: https://pandas.pydata.org/pandas-docs/stable/user_guide/indexing.html#returning-a-view-versus-a-copy\n",
      "  dataset['Time'] = dataset['Time'].apply(pd.to_numeric)\n",
      "<ipython-input-13-5e5e57c10edb>:8: SettingWithCopyWarning: \n",
      "A value is trying to be set on a copy of a slice from a DataFrame.\n",
      "Try using .loc[row_indexer,col_indexer] = value instead\n",
      "\n",
      "See the caveats in the documentation: https://pandas.pydata.org/pandas-docs/stable/user_guide/indexing.html#returning-a-view-versus-a-copy\n",
      "  dataset['Time'] = dataset['Time'].apply(pd.to_numeric)\n",
      "<ipython-input-13-5e5e57c10edb>:8: SettingWithCopyWarning: \n",
      "A value is trying to be set on a copy of a slice from a DataFrame.\n",
      "Try using .loc[row_indexer,col_indexer] = value instead\n",
      "\n",
      "See the caveats in the documentation: https://pandas.pydata.org/pandas-docs/stable/user_guide/indexing.html#returning-a-view-versus-a-copy\n",
      "  dataset['Time'] = dataset['Time'].apply(pd.to_numeric)\n",
      "<ipython-input-13-5e5e57c10edb>:8: SettingWithCopyWarning: \n",
      "A value is trying to be set on a copy of a slice from a DataFrame.\n",
      "Try using .loc[row_indexer,col_indexer] = value instead\n",
      "\n",
      "See the caveats in the documentation: https://pandas.pydata.org/pandas-docs/stable/user_guide/indexing.html#returning-a-view-versus-a-copy\n",
      "  dataset['Time'] = dataset['Time'].apply(pd.to_numeric)\n",
      "<ipython-input-13-5e5e57c10edb>:8: SettingWithCopyWarning: \n",
      "A value is trying to be set on a copy of a slice from a DataFrame.\n",
      "Try using .loc[row_indexer,col_indexer] = value instead\n",
      "\n",
      "See the caveats in the documentation: https://pandas.pydata.org/pandas-docs/stable/user_guide/indexing.html#returning-a-view-versus-a-copy\n",
      "  dataset['Time'] = dataset['Time'].apply(pd.to_numeric)\n",
      "<ipython-input-13-5e5e57c10edb>:8: SettingWithCopyWarning: \n",
      "A value is trying to be set on a copy of a slice from a DataFrame.\n",
      "Try using .loc[row_indexer,col_indexer] = value instead\n",
      "\n",
      "See the caveats in the documentation: https://pandas.pydata.org/pandas-docs/stable/user_guide/indexing.html#returning-a-view-versus-a-copy\n",
      "  dataset['Time'] = dataset['Time'].apply(pd.to_numeric)\n",
      "<ipython-input-13-5e5e57c10edb>:8: SettingWithCopyWarning: \n",
      "A value is trying to be set on a copy of a slice from a DataFrame.\n",
      "Try using .loc[row_indexer,col_indexer] = value instead\n",
      "\n",
      "See the caveats in the documentation: https://pandas.pydata.org/pandas-docs/stable/user_guide/indexing.html#returning-a-view-versus-a-copy\n",
      "  dataset['Time'] = dataset['Time'].apply(pd.to_numeric)\n",
      "<ipython-input-13-5e5e57c10edb>:8: SettingWithCopyWarning: \n",
      "A value is trying to be set on a copy of a slice from a DataFrame.\n",
      "Try using .loc[row_indexer,col_indexer] = value instead\n",
      "\n",
      "See the caveats in the documentation: https://pandas.pydata.org/pandas-docs/stable/user_guide/indexing.html#returning-a-view-versus-a-copy\n",
      "  dataset['Time'] = dataset['Time'].apply(pd.to_numeric)\n",
      "<ipython-input-13-5e5e57c10edb>:8: SettingWithCopyWarning: \n",
      "A value is trying to be set on a copy of a slice from a DataFrame.\n",
      "Try using .loc[row_indexer,col_indexer] = value instead\n",
      "\n",
      "See the caveats in the documentation: https://pandas.pydata.org/pandas-docs/stable/user_guide/indexing.html#returning-a-view-versus-a-copy\n",
      "  dataset['Time'] = dataset['Time'].apply(pd.to_numeric)\n",
      "<ipython-input-13-5e5e57c10edb>:8: SettingWithCopyWarning: \n",
      "A value is trying to be set on a copy of a slice from a DataFrame.\n",
      "Try using .loc[row_indexer,col_indexer] = value instead\n",
      "\n",
      "See the caveats in the documentation: https://pandas.pydata.org/pandas-docs/stable/user_guide/indexing.html#returning-a-view-versus-a-copy\n",
      "  dataset['Time'] = dataset['Time'].apply(pd.to_numeric)\n",
      "<ipython-input-13-5e5e57c10edb>:8: SettingWithCopyWarning: \n",
      "A value is trying to be set on a copy of a slice from a DataFrame.\n",
      "Try using .loc[row_indexer,col_indexer] = value instead\n",
      "\n",
      "See the caveats in the documentation: https://pandas.pydata.org/pandas-docs/stable/user_guide/indexing.html#returning-a-view-versus-a-copy\n",
      "  dataset['Time'] = dataset['Time'].apply(pd.to_numeric)\n",
      "<ipython-input-13-5e5e57c10edb>:8: SettingWithCopyWarning: \n",
      "A value is trying to be set on a copy of a slice from a DataFrame.\n",
      "Try using .loc[row_indexer,col_indexer] = value instead\n",
      "\n",
      "See the caveats in the documentation: https://pandas.pydata.org/pandas-docs/stable/user_guide/indexing.html#returning-a-view-versus-a-copy\n",
      "  dataset['Time'] = dataset['Time'].apply(pd.to_numeric)\n",
      "<ipython-input-13-5e5e57c10edb>:8: SettingWithCopyWarning: \n",
      "A value is trying to be set on a copy of a slice from a DataFrame.\n",
      "Try using .loc[row_indexer,col_indexer] = value instead\n",
      "\n",
      "See the caveats in the documentation: https://pandas.pydata.org/pandas-docs/stable/user_guide/indexing.html#returning-a-view-versus-a-copy\n",
      "  dataset['Time'] = dataset['Time'].apply(pd.to_numeric)\n",
      "<ipython-input-13-5e5e57c10edb>:8: SettingWithCopyWarning: \n",
      "A value is trying to be set on a copy of a slice from a DataFrame.\n",
      "Try using .loc[row_indexer,col_indexer] = value instead\n",
      "\n",
      "See the caveats in the documentation: https://pandas.pydata.org/pandas-docs/stable/user_guide/indexing.html#returning-a-view-versus-a-copy\n",
      "  dataset['Time'] = dataset['Time'].apply(pd.to_numeric)\n",
      "<ipython-input-13-5e5e57c10edb>:8: SettingWithCopyWarning: \n",
      "A value is trying to be set on a copy of a slice from a DataFrame.\n",
      "Try using .loc[row_indexer,col_indexer] = value instead\n",
      "\n",
      "See the caveats in the documentation: https://pandas.pydata.org/pandas-docs/stable/user_guide/indexing.html#returning-a-view-versus-a-copy\n",
      "  dataset['Time'] = dataset['Time'].apply(pd.to_numeric)\n",
      "<ipython-input-13-5e5e57c10edb>:8: SettingWithCopyWarning: \n",
      "A value is trying to be set on a copy of a slice from a DataFrame.\n",
      "Try using .loc[row_indexer,col_indexer] = value instead\n",
      "\n",
      "See the caveats in the documentation: https://pandas.pydata.org/pandas-docs/stable/user_guide/indexing.html#returning-a-view-versus-a-copy\n",
      "  dataset['Time'] = dataset['Time'].apply(pd.to_numeric)\n",
      "<ipython-input-13-5e5e57c10edb>:8: SettingWithCopyWarning: \n",
      "A value is trying to be set on a copy of a slice from a DataFrame.\n",
      "Try using .loc[row_indexer,col_indexer] = value instead\n",
      "\n",
      "See the caveats in the documentation: https://pandas.pydata.org/pandas-docs/stable/user_guide/indexing.html#returning-a-view-versus-a-copy\n",
      "  dataset['Time'] = dataset['Time'].apply(pd.to_numeric)\n",
      "<ipython-input-13-5e5e57c10edb>:8: SettingWithCopyWarning: \n",
      "A value is trying to be set on a copy of a slice from a DataFrame.\n",
      "Try using .loc[row_indexer,col_indexer] = value instead\n",
      "\n",
      "See the caveats in the documentation: https://pandas.pydata.org/pandas-docs/stable/user_guide/indexing.html#returning-a-view-versus-a-copy\n",
      "  dataset['Time'] = dataset['Time'].apply(pd.to_numeric)\n"
     ]
    },
    {
     "name": "stderr",
     "output_type": "stream",
     "text": [
      "<ipython-input-13-5e5e57c10edb>:8: SettingWithCopyWarning: \n",
      "A value is trying to be set on a copy of a slice from a DataFrame.\n",
      "Try using .loc[row_indexer,col_indexer] = value instead\n",
      "\n",
      "See the caveats in the documentation: https://pandas.pydata.org/pandas-docs/stable/user_guide/indexing.html#returning-a-view-versus-a-copy\n",
      "  dataset['Time'] = dataset['Time'].apply(pd.to_numeric)\n",
      "<ipython-input-13-5e5e57c10edb>:8: SettingWithCopyWarning: \n",
      "A value is trying to be set on a copy of a slice from a DataFrame.\n",
      "Try using .loc[row_indexer,col_indexer] = value instead\n",
      "\n",
      "See the caveats in the documentation: https://pandas.pydata.org/pandas-docs/stable/user_guide/indexing.html#returning-a-view-versus-a-copy\n",
      "  dataset['Time'] = dataset['Time'].apply(pd.to_numeric)\n",
      "<ipython-input-13-5e5e57c10edb>:8: SettingWithCopyWarning: \n",
      "A value is trying to be set on a copy of a slice from a DataFrame.\n",
      "Try using .loc[row_indexer,col_indexer] = value instead\n",
      "\n",
      "See the caveats in the documentation: https://pandas.pydata.org/pandas-docs/stable/user_guide/indexing.html#returning-a-view-versus-a-copy\n",
      "  dataset['Time'] = dataset['Time'].apply(pd.to_numeric)\n",
      "<ipython-input-13-5e5e57c10edb>:8: SettingWithCopyWarning: \n",
      "A value is trying to be set on a copy of a slice from a DataFrame.\n",
      "Try using .loc[row_indexer,col_indexer] = value instead\n",
      "\n",
      "See the caveats in the documentation: https://pandas.pydata.org/pandas-docs/stable/user_guide/indexing.html#returning-a-view-versus-a-copy\n",
      "  dataset['Time'] = dataset['Time'].apply(pd.to_numeric)\n",
      "<ipython-input-13-5e5e57c10edb>:8: SettingWithCopyWarning: \n",
      "A value is trying to be set on a copy of a slice from a DataFrame.\n",
      "Try using .loc[row_indexer,col_indexer] = value instead\n",
      "\n",
      "See the caveats in the documentation: https://pandas.pydata.org/pandas-docs/stable/user_guide/indexing.html#returning-a-view-versus-a-copy\n",
      "  dataset['Time'] = dataset['Time'].apply(pd.to_numeric)\n",
      "<ipython-input-13-5e5e57c10edb>:8: SettingWithCopyWarning: \n",
      "A value is trying to be set on a copy of a slice from a DataFrame.\n",
      "Try using .loc[row_indexer,col_indexer] = value instead\n",
      "\n",
      "See the caveats in the documentation: https://pandas.pydata.org/pandas-docs/stable/user_guide/indexing.html#returning-a-view-versus-a-copy\n",
      "  dataset['Time'] = dataset['Time'].apply(pd.to_numeric)\n"
     ]
    }
   ],
   "source": [
    "#Nov 25 dataset\n",
    "C1_nov25 = clean_data(C1_nov25)\n",
    "C2_nov25 = clean_data(C2_nov25)\n",
    "C3_nov25 = clean_data(C3_nov25)\n",
    "\n",
    "L1_nov25_1 = clean_data(L1_nov25_1)\n",
    "L1_nov25_2 = clean_data(L1_nov25_2)\n",
    "L1_nov25_3 = clean_data(L1_nov25_3)\n",
    "L2_nov25_1=clean_data(L2_nov25_1)\n",
    "L2_nov25_2=clean_data(L2_nov25_2)\n",
    "L3_nov25_1=clean_data(L3_nov25_1)\n",
    "L3_nov25_2=clean_data(L3_nov25_2)\n",
    "\n",
    "#Nov 7 dataset\n",
    "C1_Nov7 = clean_data(C1_Nov7)\n",
    "C2_Nov7 = clean_data(C2_Nov7)\n",
    "C3_Nov7 = clean_data(C3_Nov7)\n",
    "\n",
    "L1_Nov7 = clean_data(L1_Nov7)\n",
    "L2_Nov7 = clean_data(L2_Nov7)\n",
    "L2_Nov7_2 = clean_data(L2_Nov7_2)\n",
    "\n",
    "#Sep 15 dataset\n",
    "C1_Sep15 = clean_data(C1_Sep15)\n",
    "C2_Sep15 = clean_data(C2_Sep15)\n",
    "C3_Sep15 = clean_data(C3_Sep15)\n",
    "\n",
    "#July 25 dataset\n",
    "C1_July25 = clean_data(C1_July25)\n",
    "C2_July25 = clean_data(C2_July25)\n",
    "C3_July25 = clean_data(C3_July25)\n",
    "\n",
    "L1_July25_1 = clean_data(L1_July25_1)\n",
    "L1_July25_2 = clean_data(L1_July25_2)\n",
    "L2_July25_1 = clean_data(L2_July25_1)\n",
    "L2_July25_2 = clean_data(L2_July25_2)\n",
    "L3_July25_1 = clean_data(L3_July25_1)\n",
    "L3_July25_2 = clean_data(L3_July25_2)"
   ]
  },
  {
   "cell_type": "markdown",
   "id": "63bebd66",
   "metadata": {},
   "source": [
    "## 4.2 Computation of sort recovery percentage\n",
    "\n",
    "### The output data for each dataset contains the number of sorted eggs, total number of eggs, sort recovery, time required to sort, number of sorted eggs per minute and number of measured eggs per minute.\n"
   ]
  },
  {
   "cell_type": "code",
   "execution_count": 16,
   "id": "681c1157",
   "metadata": {},
   "outputs": [],
   "source": [
    "all_data_srt = [compute_sort_recovery(i) for i in\n",
    "    [C1_nov25, C2_nov25, C3_nov25,L1_nov25_1, L1_nov25_2, L1_nov25_2, L2_nov25_1,L2_nov25_2, L3_nov25_1,L3_nov25_2,\n",
    "    C1_Nov7, C2_Nov7,C3_Nov7, L1_Nov7, L2_Nov7, L2_Nov7_2,\n",
    "    C1_Sep15, C2_Sep15, C3_Sep15,\n",
    "    C1_July25, C2_July25, C3_July25, \n",
    "    L1_July25_1, L1_July25_2, L2_July25_1, L2_July25_2, L3_July25_1, L3_July25_2]]"
   ]
  },
  {
   "cell_type": "markdown",
   "id": "8545fed9",
   "metadata": {},
   "source": [
    "## 4.3 Data visualization"
   ]
  },
  {
   "cell_type": "code",
   "execution_count": 17,
   "id": "5a1bc722",
   "metadata": {},
   "outputs": [
    {
     "data": {
      "image/png": "[encoded data removed]",
      "text/plain": [
       "<Figure size 500x300 with 2 Axes>"
      ]
     },
     "metadata": {},
     "output_type": "display_data"
    }
   ],
   "source": [
    "fig , ax = plt.subplots(nrows = 1, ncols = 2, sharex=True, sharey=True,figsize=(5,3),dpi=100, facecolor='w', edgecolor='k')    \n",
    "#plot the sort recovery\n",
    "ax=plt.subplot(1,2,1)\n",
    "set_color_flier('teal')\n",
    "box=ax.boxplot([i[2] for i in all_data_srt], medianprops = dict(color=\"orange\",linewidth=2), vert = True,showcaps = False, showfliers = True, patch_artist=True, flierprops=set_color_flier('teal'))\n",
    "set_color_box('teal')\n",
    "plt.ylabel('Sort recovery %',fontsize=12)\n",
    "plt.xticks([0],[''], va='top')\n",
    "plt.yticks(fontsize=12, va='top')\n",
    "\n",
    "#plot the number of sorted eggs per minutes\n",
    "ax=plt.subplot(1,2,2)\n",
    "set_color_flier('teal')\n",
    "box=ax.boxplot([i[4] for i in all_data_srt], medianprops = dict(color=\"orange\",linewidth=2), vert = True,showcaps = False, showfliers = True, patch_artist=True, flierprops=set_color_flier('teal'))\n",
    "set_color_box('teal')\n",
    "plt.ylabel('No. sorted eggs / min',fontsize=12)\n",
    "plt.yticks(fontsize=12, va='top')\n",
    "plt.xticks([0],[''], va='top')\n",
    "\n",
    "fig.tight_layout()\n",
    "plt.savefig('../plots/final_plots/sort_speed_revision.jpeg', dpi=100,format='jpeg', bbox_inches = 'tight')\n",
    "plt.savefig('../plots/final_plots/sort_speed_revision.svg', dpi=100,format='svg', bbox_inches = 'tight')\n"
   ]
  },
  {
   "cell_type": "markdown",
   "id": "0ccf28a7",
   "metadata": {},
   "source": [
    "## 4.2 Summary statistics for sort recovery"
   ]
  },
  {
   "cell_type": "code",
   "execution_count": 19,
   "id": "0023d41a",
   "metadata": {},
   "outputs": [
    {
     "name": "stdout",
     "output_type": "stream",
     "text": [
      "64.41635876038505\n",
      "63.537351560342444\n",
      "89.75926058644359\n",
      "68.95914669984325\n"
     ]
    }
   ],
   "source": [
    "#get summary stat of sort recovery\n",
    "print(np.mean([i[2] for i in all_data_srt]))   #64.41635876038505\n",
    "print(np.median([i[2] for i in all_data_srt])) #63.537351560342444\n",
    "\n",
    "#get summary stat of No. sorted eggs / min\n",
    "print(np.mean([i[4] for i in all_data_srt]))   #89.75926058644359\n",
    "print(np.median([i[4] for i in all_data_srt])) #68.95914669984325"
   ]
  }
 ],
 "metadata": {
  "kernelspec": {
   "display_name": "Python 3",
   "language": "python",
   "name": "python3"
  },
  "language_info": {
   "codemirror_mode": {
    "name": "ipython",
    "version": 3
   },
   "file_extension": ".py",
   "mimetype": "text/x-python",
   "name": "python",
   "nbconvert_exporter": "python",
   "pygments_lexer": "ipython3",
   "version": "3.8.8"
  }
 },
 "nbformat": 4,
 "nbformat_minor": 5
}
