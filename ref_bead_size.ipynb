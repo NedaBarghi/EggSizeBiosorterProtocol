{
 "cells": [
  {
   "cell_type": "markdown",
   "id": "370154f4",
   "metadata": {},
   "source": [
    "# 1. Import libraries"
   ]
  },
  {
   "cell_type": "code",
   "execution_count": 1,
   "id": "cfdcdb07",
   "metadata": {},
   "outputs": [],
   "source": [
    "import pandas as pd \n",
    "import matplotlib.pyplot as plt \n",
    "import os\n",
    "import numpy as np\n",
    "from sklearn.linear_model import LinearRegression"
   ]
  },
  {
   "cell_type": "markdown",
   "id": "f2e85e95",
   "metadata": {},
   "source": [
    "# 2. Change the working directory "
   ]
  },
  {
   "cell_type": "code",
   "execution_count": 2,
   "id": "8b085548",
   "metadata": {},
   "outputs": [
    {
     "data": {
      "text/plain": [
       "'/Users/neda/Dropbox (PopGen)/tmp/egg_size_method_paper/scripts'"
      ]
     },
     "execution_count": 2,
     "metadata": {},
     "output_type": "execute_result"
    }
   ],
   "source": [
    "os.chdir('/Users/neda/Dropbox (PopGen)/tmp/egg_size_method_paper/scripts/')\n",
    "os.getcwd()"
   ]
  },
  {
   "cell_type": "markdown",
   "id": "a8357aee",
   "metadata": {},
   "source": [
    "\n",
    "# 3. Using the reference beads to convert time of flight (TOF) to size μm\n",
    "\n",
    "## 3.1 Read Biosorter data \n",
    "\n",
    "### We first read the Biosorter data for runs of 200 and 430 um beads. Note that for these bead the original Biosorter data is copied to an Excel file.\n"
   ]
  },
  {
   "cell_type": "code",
   "execution_count": 3,
   "id": "769e48cd",
   "metadata": {},
   "outputs": [],
   "source": [
    "bead_200 = pd.read_excel('../data/Drosophila_eggs_OD1_5_1xPBS_26-03-2021/Ref_bead_26-03-2021.xlsx', sheet_name='200 um Beads')\n",
    "bead_430 = pd.read_excel('../data/Drosophila_eggs_OD1_5_1xPBS_26-03-2021/Ref_bead_26-03-2021.xlsx', sheet_name='430 um Beads')"
   ]
  },
  {
   "cell_type": "markdown",
   "id": "5d2851c6",
   "metadata": {},
   "source": [
    "### Check the size distribution of 200 μm and 430 μm beads"
   ]
  },
  {
   "cell_type": "code",
   "execution_count": 4,
   "id": "51ee75c3",
   "metadata": {
    "scrolled": true
   },
   "outputs": [
    {
     "data": {
      "text/plain": [
       "Text(0, 0.5, 'Count')"
      ]
     },
     "execution_count": 4,
     "metadata": {},
     "output_type": "execute_result"
    },
    {
     "data": {
      "image/png": "[encoded data removed]",
      "text/plain": [
       "<Figure size 432x288 with 1 Axes>"
      ]
     },
     "metadata": {
      "needs_background": "light"
     },
     "output_type": "display_data"
    }
   ],
   "source": [
    "plt.title('Distribution of TOF - 200μm beads')\n",
    "plt.hist(bead_200['TOF'])\n",
    "plt.xlabel('TOF')\n",
    "plt.ylabel('Count')"
   ]
  },
  {
   "cell_type": "code",
   "execution_count": 5,
   "id": "2db25f9c",
   "metadata": {
    "scrolled": true
   },
   "outputs": [
    {
     "data": {
      "text/plain": [
       "Text(0, 0.5, 'Count')"
      ]
     },
     "execution_count": 5,
     "metadata": {},
     "output_type": "execute_result"
    },
    {
     "data": {
      "image/png": "[encoded data removed]",
      "text/plain": [
       "<Figure size 432x288 with 1 Axes>"
      ]
     },
     "metadata": {
      "needs_background": "light"
     },
     "output_type": "display_data"
    }
   ],
   "source": [
    "plt.title('Distribution of TOF - 430μm beads')\n",
    "plt.hist(bead_430['TOF'])\n",
    "plt.xlabel('TOF')\n",
    "plt.ylabel('Count')"
   ]
  },
  {
   "cell_type": "markdown",
   "id": "b914bb49",
   "metadata": {},
   "source": [
    "### Check the median TOF for 200 μm and 430 μm beads"
   ]
  },
  {
   "cell_type": "code",
   "execution_count": 6,
   "id": "c379254f",
   "metadata": {},
   "outputs": [
    {
     "name": "stdout",
     "output_type": "stream",
     "text": [
      "688.0\n",
      "2040.0\n"
     ]
    }
   ],
   "source": [
    "print(np.median(bead_200['TOF']))\n",
    "print(np.median(bead_430['TOF']))"
   ]
  },
  {
   "cell_type": "markdown",
   "id": "279b1e23",
   "metadata": {},
   "source": [
    "## 3.2 Remove outliers\n",
    "\n",
    "### The median TOF of 200 μm and 430 μm beads is 688 and 2040 respectively, some outliers are present too. So, we remove the outliers and have a look at the distribution again."
   ]
  },
  {
   "cell_type": "code",
   "execution_count": 7,
   "id": "5519c6d3",
   "metadata": {},
   "outputs": [
    {
     "data": {
      "text/plain": [
       "Text(0, 0.5, 'Count')"
      ]
     },
     "execution_count": 7,
     "metadata": {},
     "output_type": "execute_result"
    },
    {
     "data": {
      "image/png": "[encoded data removed]",
      "text/plain": [
       "<Figure size 432x288 with 1 Axes>"
      ]
     },
     "metadata": {
      "needs_background": "light"
     },
     "output_type": "display_data"
    }
   ],
   "source": [
    "plt.title('Distribution of TOF - 200μm beads')\n",
    "bead_200_flt = bead_200[bead_200['TOF'] > 600]\n",
    "plt.hist(bead_200_flt['TOF'])\n",
    "plt.xlabel('TOF')\n",
    "plt.ylabel('Count')"
   ]
  },
  {
   "cell_type": "code",
   "execution_count": 8,
   "id": "a06ac11d",
   "metadata": {},
   "outputs": [
    {
     "data": {
      "text/plain": [
       "Text(0, 0.5, 'Count')"
      ]
     },
     "execution_count": 8,
     "metadata": {},
     "output_type": "execute_result"
    },
    {
     "data": {
      "image/png": "[encoded data removed]",
      "text/plain": [
       "<Figure size 432x288 with 1 Axes>"
      ]
     },
     "metadata": {
      "needs_background": "light"
     },
     "output_type": "display_data"
    }
   ],
   "source": [
    "plt.title('Distribution of TOF - 430μm beads')\n",
    "bead_430_flt = bead_430[bead_430['TOF'] > 1800]\n",
    "plt.hist(bead_430_flt['TOF'])\n",
    "plt.xlabel('TOF')\n",
    "plt.ylabel('Count')"
   ]
  },
  {
   "cell_type": "markdown",
   "id": "0481e906",
   "metadata": {},
   "source": [
    "### The final size distribution and mean/median of reference beads"
   ]
  },
  {
   "cell_type": "code",
   "execution_count": 9,
   "id": "5e49c71f",
   "metadata": {},
   "outputs": [
    {
     "data": {
      "text/plain": [
       "<matplotlib.legend.Legend at 0x7fbe78245250>"
      ]
     },
     "execution_count": 9,
     "metadata": {},
     "output_type": "execute_result"
    },
    {
     "data": {
      "image/png": "[encoded data removed]",
      "text/plain": [
       "<Figure size 432x288 with 1 Axes>"
      ]
     },
     "metadata": {
      "needs_background": "light"
     },
     "output_type": "display_data"
    }
   ],
   "source": [
    "plt.hist(bead_200_flt['TOF'], color = 'blue', range=(550,2200), bins= 30, label='200μm') \n",
    "plt.hist(bead_430_flt['TOF'],color = 'green', range=(550,2200), bins= 30, label = '430μm') \n",
    "plt.xlabel('TOF')\n",
    "plt.ylabel('Count')\n",
    "plt.legend()"
   ]
  },
  {
   "cell_type": "code",
   "execution_count": 10,
   "id": "f5e5ddd5",
   "metadata": {},
   "outputs": [
    {
     "name": "stdout",
     "output_type": "stream",
     "text": [
      "median bead 200 μm: 696.0\n",
      "mean bead 200 μm: 696.3368421052631\n",
      "median bead 430 μm: 2072.0\n",
      "mean bead 430 μm: 2062.6666666666665\n"
     ]
    }
   ],
   "source": [
    "print('median bead 200 μm:', np.median(bead_200_flt['TOF']))\n",
    "print('mean bead 200 μm:', np.mean(bead_200_flt['TOF']))\n",
    "print('median bead 430 μm:', np.median(bead_430_flt['TOF']))\n",
    "print('mean bead 430 μm:', np.mean(bead_430_flt['TOF']))"
   ]
  },
  {
   "cell_type": "markdown",
   "id": "7187b3c4",
   "metadata": {},
   "source": [
    "## 3.3 Fit a linear regression model\n",
    "\n",
    "### We fit a linear regression model to the bead TOF data and use the the slope and intercept to convert TOF of all subsequent datasets to size (μm)."
   ]
  },
  {
   "cell_type": "code",
   "execution_count": 11,
   "id": "c495b089",
   "metadata": {},
   "outputs": [
    {
     "name": "stdout",
     "output_type": "stream",
     "text": [
      "(191, 1)\n",
      "(191,)\n",
      "coefficient of determination: 0.9956030553606903\n",
      "intercept: -491.77604881769616\n",
      "slope: [5.94056445]\n"
     ]
    },
    {
     "data": {
      "image/png": "[encoded data removed]",
      "text/plain": [
       "<Figure size 432x288 with 1 Axes>"
      ]
     },
     "metadata": {
      "needs_background": "light"
     },
     "output_type": "display_data"
    }
   ],
   "source": [
    "#first make a size array specifying the pre-defined size, the size of this array is equal to the length of bead dataset \n",
    "x = np.array([200]*95+ [430]*96).reshape((-1, 1))\n",
    "print(x.shape)\n",
    "#then convert TOF to arrays and plot the data\n",
    "y = np.array(list(bead_200_flt['TOF'])+list(bead_430_flt['TOF']))\n",
    "print(y.shape)\n",
    "plt.scatter(x,y)\n",
    "plt.xlabel('Reference size')\n",
    "plt.ylabel('TOF')\n",
    "\n",
    "##and finally fit the linear model\n",
    "model = LinearRegression().fit(x, y)\n",
    "\n",
    "r_sq = model.score(x, y)\n",
    "print('coefficient of determination:', r_sq)\n",
    "\n",
    "print('intercept:', model.intercept_)\n",
    "intc =  model.intercept_\n",
    "\n",
    "print('slope:', model.coef_)\n",
    "sl=model.coef_[0]\n"
   ]
  },
  {
   "cell_type": "markdown",
   "id": "19f72f1d",
   "metadata": {},
   "source": [
    "## 3.4 Convert TOF to size (μm)\n",
    "\n",
    "### We will use the the slope and intercept of the linear regression model to convert TOF to size (μm)."
   ]
  },
  {
   "cell_type": "code",
   "execution_count": 12,
   "id": "fe25aff8",
   "metadata": {},
   "outputs": [
    {
     "data": {
      "text/plain": [
       "Text(0, 0.5, 'TOF')"
      ]
     },
     "execution_count": 12,
     "metadata": {},
     "output_type": "execute_result"
    },
    {
     "data": {
      "image/png": "[encoded data removed]",
      "text/plain": [
       "<Figure size 432x288 with 1 Axes>"
      ]
     },
     "metadata": {
      "needs_background": "light"
     },
     "output_type": "display_data"
    }
   ],
   "source": [
    "size_200 = (bead_200_flt['TOF'] - intc) / sl\n",
    "size_430 = (bead_430_flt['TOF'] - intc) / sl\n",
    "\n",
    "plt.title('Estimated size of 200 and 430 μm beads')\n",
    "plt.scatter(size_200,bead_200_flt['TOF'])\n",
    "plt.scatter(size_430,bead_430_flt['TOF'])\n",
    "plt.xlabel('Size (μm)')\n",
    "plt.ylabel('TOF')"
   ]
  },
  {
   "cell_type": "markdown",
   "id": "c23aa731",
   "metadata": {},
   "source": [
    "## 3.5 **compute_append_size** function\n",
    "\n",
    "### The computed slope and intercept of these reference beads will be used to convert TOF of all subsequent Biosorter runs to size. \n",
    "\n",
    "### In other scripts, the conversion of TOF to size using reference beads is done through function **compute_append_size**."
   ]
  }
 ],
 "metadata": {
  "kernelspec": {
   "display_name": "Python 3",
   "language": "python",
   "name": "python3"
  },
  "language_info": {
   "codemirror_mode": {
    "name": "ipython",
    "version": 3
   },
   "file_extension": ".py",
   "mimetype": "text/x-python",
   "name": "python",
   "nbconvert_exporter": "python",
   "pygments_lexer": "ipython3",
   "version": "3.8.8"
  }
 },
 "nbformat": 4,
 "nbformat_minor": 5
}
