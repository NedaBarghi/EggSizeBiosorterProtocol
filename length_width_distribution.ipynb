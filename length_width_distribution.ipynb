{
 "cells": [
  {
   "cell_type": "markdown",
   "id": "564710a8",
   "metadata": {},
   "source": [
    "# 1. Import  libraries"
   ]
  },
  {
   "cell_type": "code",
   "execution_count": 1,
   "id": "df4ab142",
   "metadata": {},
   "outputs": [],
   "source": [
    "%matplotlib inline\n",
    "\n",
    "import pandas as pd \n",
    "import os\n",
    "import matplotlib.pyplot as plt \n",
    "import numpy as np"
   ]
  },
  {
   "cell_type": "markdown",
   "id": "28106e52",
   "metadata": {},
   "source": [
    "# 2. Change the working directory"
   ]
  },
  {
   "cell_type": "code",
   "execution_count": 2,
   "id": "e3d40cb2",
   "metadata": {},
   "outputs": [
    {
     "data": {
      "text/plain": [
       "'/Users/neda/Dropbox (PopGen)/tmp/egg_size_method_paper/scripts'"
      ]
     },
     "execution_count": 2,
     "metadata": {},
     "output_type": "execute_result"
    }
   ],
   "source": [
    "os.chdir('/Users/neda/Dropbox (PopGen)/tmp/egg_size_method_paper/scripts/')\n",
    "os.getcwd()"
   ]
  },
  {
   "cell_type": "markdown",
   "id": "63cef504",
   "metadata": {},
   "source": [
    "# 3. Read the manual measurements of eggs' length and width"
   ]
  },
  {
   "cell_type": "code",
   "execution_count": 3,
   "id": "934d997b",
   "metadata": {},
   "outputs": [],
   "source": [
    "len_wid = pd.read_excel(r'../data/github/manual_measurement_length_width_12042022.xlsx', sheet_name= 'all_length_width')"
   ]
  },
  {
   "cell_type": "markdown",
   "id": "1b7642a1",
   "metadata": {},
   "source": [
    "# 4. Plot the data"
   ]
  },
  {
   "cell_type": "code",
   "execution_count": 4,
   "id": "4db5e25f",
   "metadata": {},
   "outputs": [
    {
     "data": {
      "text/plain": [
       "<matplotlib.legend.Legend at 0x7f78f0de9a90>"
      ]
     },
     "execution_count": 4,
     "metadata": {},
     "output_type": "execute_result"
    },
    {
     "data": {
      "image/png": "[encoded data removed]",
      "text/plain": [
       "<Figure size 500x300 with 1 Axes>"
      ]
     },
     "metadata": {},
     "output_type": "display_data"
    }
   ],
   "source": [
    "fig , ax = plt.subplots(sharex=True, sharey=True,figsize=(5,3),dpi=100, facecolor='w', edgecolor='k')    \n",
    "plt.hist(len_wid['length(µm)'], range=(100,600), bins=70, color='maroon', label='Length')\n",
    "plt.hist(len_wid['width(µm)'],range=(100,600), bins=70, color='teal', label='Width')\n",
    "plt.ylabel('Count',fontsize=12)\n",
    "plt.xlabel('Size ($\\mu$m)',fontsize=12)\n",
    "plt.legend(frameon=False) \n",
    "plt.savefig('../plots/final_plots/length_width_distribution.jpeg', dpi=100,format='jpeg', bbox_inches = 'tight')\n",
    "plt.savefig('../plots/final_plots/length_width_distribution.svg', dpi=100,format='svg', bbox_inches = 'tight')"
   ]
  },
  {
   "cell_type": "markdown",
   "id": "e1fce14d",
   "metadata": {},
   "source": [
    "# 5. Summary statistics"
   ]
  },
  {
   "cell_type": "code",
   "execution_count": 5,
   "id": "14c5ab40",
   "metadata": {},
   "outputs": [
    {
     "name": "stdout",
     "output_type": "stream",
     "text": [
      "244.41955203589842\n",
      "50.510699029335925\n",
      "15.633923117244066\n",
      "7.107087942985927\n"
     ]
    }
   ],
   "source": [
    "print(np.var(len_wid['length(µm)']))\n",
    "print(np.var(len_wid['width(µm)']))\n",
    "\n",
    "print(np.std(len_wid['length(µm)']))\n",
    "print(np.std(len_wid['width(µm)']))\n"
   ]
  }
 ],
 "metadata": {
  "kernelspec": {
   "display_name": "Python 3",
   "language": "python",
   "name": "python3"
  },
  "language_info": {
   "codemirror_mode": {
    "name": "ipython",
    "version": 3
   },
   "file_extension": ".py",
   "mimetype": "text/x-python",
   "name": "python",
   "nbconvert_exporter": "python",
   "pygments_lexer": "ipython3",
   "version": "3.8.8"
  }
 },
 "nbformat": 4,
 "nbformat_minor": 5
}
